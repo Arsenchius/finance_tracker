{
 "cells": [
  {
   "cell_type": "code",
   "execution_count": 2,
   "id": "41eca499",
   "metadata": {},
   "outputs": [
    {
     "data": {
      "text/plain": [
       "AIMessage(content='Привет! Как дела? Чем занимаешься? 😊\\n', additional_kwargs={}, response_metadata={'model': 'gemma3:1b', 'created_at': '2025-05-17T11:35:35.609333Z', 'done': True, 'done_reason': 'stop', 'total_duration': 359675875, 'load_duration': 46547292, 'prompt_eval_count': 10, 'prompt_eval_duration': 69082584, 'eval_count': 12, 'eval_duration': 243412833, 'model_name': 'gemma3:1b'}, id='run--f9daa3f3-f1aa-4f82-913b-ec520cbd9bfc-0', usage_metadata={'input_tokens': 10, 'output_tokens': 12, 'total_tokens': 22})"
      ]
     },
     "execution_count": 2,
     "metadata": {},
     "output_type": "execute_result"
    }
   ],
   "source": [
    "from langchain_ollama import ChatOllama\n",
    "from langchain_core.output_parsers import StrOutputParser\n",
    "from langchain_core.runnables import RunnablePassthrough\n",
    "from langchain_core.prompts import ChatPromptTemplate\n",
    "\n",
    "from langchain_core.tools import tool\n",
    "\n",
    "\n",
    "llm = ChatOllama(model='gemma3:1b')\n",
    "llm.invoke('Привет')"
   ]
  },
  {
   "cell_type": "code",
   "execution_count": 3,
   "id": "7dad501d",
   "metadata": {},
   "outputs": [],
   "source": [
    "from langchain_community.utilities import SQLDatabase\n",
    "\n",
    "db = SQLDatabase.from_uri(\"sqlite:///example.db\")"
   ]
  },
  {
   "cell_type": "code",
   "execution_count": 6,
   "id": "38b418d5",
   "metadata": {},
   "outputs": [
    {
     "data": {
      "text/plain": [
       "['transactions']"
      ]
     },
     "execution_count": 6,
     "metadata": {},
     "output_type": "execute_result"
    }
   ],
   "source": [
    "db.dialect\n",
    "db.get_usable_table_names()"
   ]
  },
  {
   "cell_type": "code",
   "execution_count": 8,
   "id": "c4cf73d9",
   "metadata": {},
   "outputs": [
    {
     "data": {
      "text/plain": [
       "\"[(1, 'user_1', 'expense', 'макдональдс', 879.0, '2025-05-11'), (2, 'user_1', 'expense', 'макдональдс', 879.0, '2025-05-11')]\""
      ]
     },
     "execution_count": 8,
     "metadata": {},
     "output_type": "execute_result"
    }
   ],
   "source": [
    "db.run(\"SELECT * FROM transactions LIMIT 5\")"
   ]
  },
  {
   "cell_type": "markdown",
   "id": "038dcd1c",
   "metadata": {},
   "source": [
    "### SQL Query Chain"
   ]
  },
  {
   "cell_type": "code",
   "execution_count": 12,
   "id": "a5e43c66",
   "metadata": {},
   "outputs": [],
   "source": [
    "from langchain.chains import create_sql_query_chain\n",
    "\n",
    "sql_chain = create_sql_query_chain(llm, db)"
   ]
  },
  {
   "cell_type": "code",
   "execution_count": 13,
   "id": "7e12d9bd",
   "metadata": {},
   "outputs": [
    {
     "name": "stdout",
     "output_type": "stream",
     "text": [
      "You are a SQLite expert. Given an input question, first create a syntactically correct SQLite query to run, then look at the results of the query and return the answer to the input question.\n",
      "Unless the user specifies in the question a specific number of examples to obtain, query for at most 5 results using the LIMIT clause as per SQLite. You can order the results to return the most informative data in the database.\n",
      "Never query for all columns from a table. You must query only the columns that are needed to answer the question. Wrap each column name in double quotes (\") to denote them as delimited identifiers.\n",
      "Pay attention to use only the column names you can see in the tables below. Be careful to not query for columns that do not exist. Also, pay attention to which column is in which table.\n",
      "Pay attention to use date('now') function to get the current date, if the question involves \"today\".\n",
      "\n",
      "Use the following format:\n",
      "\n",
      "Question: Question here\n",
      "SQLQuery: SQL Query to run\n",
      "SQLResult: Result of the SQLQuery\n",
      "Answer: Final answer here\n",
      "\n",
      "Only use the following tables:\n",
      "\u001b[33;1m\u001b[1;3m{table_info}\u001b[0m\n",
      "\n",
      "Question: \u001b[33;1m\u001b[1;3m{input}\u001b[0m\n"
     ]
    }
   ],
   "source": [
    "sql_chain.get_prompts()[0].pretty_print()"
   ]
  },
  {
   "cell_type": "code",
   "execution_count": 14,
   "id": "22f4d88d",
   "metadata": {},
   "outputs": [
    {
     "data": {
      "text/plain": [
       "RunnableAssign(mapper={\n",
       "  input: RunnableLambda(...),\n",
       "  table_info: RunnableLambda(...)\n",
       "})\n",
       "| RunnableLambda(lambda x: {k: v for k, v in x.items() if k not in ('question', 'table_names_to_use')})\n",
       "| PromptTemplate(input_variables=['input', 'table_info'], input_types={}, partial_variables={'top_k': '5'}, template='You are a SQLite expert. Given an input question, first create a syntactically correct SQLite query to run, then look at the results of the query and return the answer to the input question.\\nUnless the user specifies in the question a specific number of examples to obtain, query for at most {top_k} results using the LIMIT clause as per SQLite. You can order the results to return the most informative data in the database.\\nNever query for all columns from a table. You must query only the columns that are needed to answer the question. Wrap each column name in double quotes (\") to denote them as delimited identifiers.\\nPay attention to use only the column names you can see in the tables below. Be careful to not query for columns that do not exist. Also, pay attention to which column is in which table.\\nPay attention to use date(\\'now\\') function to get the current date, if the question involves \"today\".\\n\\nUse the following format:\\n\\nQuestion: Question here\\nSQLQuery: SQL Query to run\\nSQLResult: Result of the SQLQuery\\nAnswer: Final answer here\\n\\nOnly use the following tables:\\n{table_info}\\n\\nQuestion: {input}')\n",
       "| RunnableBinding(bound=ChatOllama(model='gemma3:1b'), kwargs={'stop': ['\\nSQLResult:']}, config={}, config_factories=[])\n",
       "| StrOutputParser()\n",
       "| RunnableLambda(_strip)"
      ]
     },
     "execution_count": 14,
     "metadata": {},
     "output_type": "execute_result"
    }
   ],
   "source": [
    "sql_chain"
   ]
  },
  {
   "cell_type": "code",
   "execution_count": 17,
   "id": "a4e7afbb",
   "metadata": {},
   "outputs": [
    {
     "name": "stdout",
     "output_type": "stream",
     "text": [
      "SELECT amount FROM transactions WHERE type = 'expense' LIMIT 5\n"
     ]
    }
   ],
   "source": [
    "question = \"Сколько я потратил на макдональдс?\"\n",
    "response = sql_chain.invoke({'question': question})\n",
    "print(response)"
   ]
  },
  {
   "cell_type": "code",
   "execution_count": null,
   "id": "0bdf9c00",
   "metadata": {},
   "outputs": [],
   "source": []
  },
  {
   "cell_type": "code",
   "execution_count": 10,
   "id": "acde3360",
   "metadata": {},
   "outputs": [],
   "source": [
    "from ask_llm import ask_llm\n",
    "from langchain_core.runnables import chain"
   ]
  },
  {
   "cell_type": "code",
   "execution_count": 11,
   "id": "cc7fbefa",
   "metadata": {},
   "outputs": [],
   "source": [
    "@chain\n",
    "def get_correct_sql_query(input):\n",
    "    context = input['context']\n",
    "    question = input['question']\n",
    "\n",
    "    instruction = \"\"\"\n",
    "        Используй приведённый выше контекст, чтобы составить корректный SQL-запрос для следующего вопроса:\n",
    "        {}\n",
    "\n",
    "        НЕ заключай запрос в блок ```sql и НЕ добавляй вступление или пояснения.\n",
    "        ОБЯЗАТЕЛЬНО верни только ОДИН SQL-запрос.\n",
    "    \"\"\".format(question)\n",
    "\n",
    "    response = ask_llm(context=context, question=instruction)\n",
    "\n",
    "    return response"
   ]
  },
  {
   "cell_type": "code",
   "execution_count": null,
   "id": "f74e451c",
   "metadata": {},
   "outputs": [],
   "source": [
    "response = get_correct_sql_query.invoke({'context': response, 'question': question})"
   ]
  }
 ],
 "metadata": {
  "kernelspec": {
   "display_name": "nlp",
   "language": "python",
   "name": "python3"
  },
  "language_info": {
   "codemirror_mode": {
    "name": "ipython",
    "version": 3
   },
   "file_extension": ".py",
   "mimetype": "text/x-python",
   "name": "python",
   "nbconvert_exporter": "python",
   "pygments_lexer": "ipython3",
   "version": "3.12.2"
  }
 },
 "nbformat": 4,
 "nbformat_minor": 5
}
