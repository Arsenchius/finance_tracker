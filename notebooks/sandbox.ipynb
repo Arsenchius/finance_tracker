{
 "cells": [
  {
   "cell_type": "code",
   "execution_count": 27,
   "id": "568470b5",
   "metadata": {},
   "outputs": [],
   "source": [
    "import sqlite3\n",
    "import pandas as pd\n",
    "import yaml"
   ]
  },
  {
   "cell_type": "code",
   "execution_count": 3,
   "id": "ecbb33db",
   "metadata": {},
   "outputs": [],
   "source": [
    "con = sqlite3.connect(\"example.db\")"
   ]
  },
  {
   "cell_type": "code",
   "execution_count": 4,
   "id": "9a5407f7",
   "metadata": {},
   "outputs": [],
   "source": [
    "cursor = con.cursor()"
   ]
  },
  {
   "cell_type": "code",
   "execution_count": null,
   "id": "f1594dc2",
   "metadata": {},
   "outputs": [],
   "source": [
    "def init_db(conn, cursor):\n",
    "    cursor.execute(\"\"\"\n",
    "    CREATE TABLE IF NOT EXISTS transactions (\n",
    "        id INTEGER PRIMARY KEY AUTOINCREMENT,\n",
    "        user_id TEXT,\n",
    "        type TEXT CHECK(type IN ('income', 'expense')),\n",
    "        category TEXT,\n",
    "        amount REAL,\n",
    "        date TIMESTAMP DEFAULT CURRENT_TIMESTAMP\n",
    "    );\n",
    "    \"\"\")\n",
    "    conn.commit()"
   ]
  },
  {
   "cell_type": "code",
   "execution_count": 7,
   "id": "f033fa88",
   "metadata": {},
   "outputs": [],
   "source": [
    "init_db(conn=con, cursor=cursor)"
   ]
  },
  {
   "cell_type": "markdown",
   "id": "ac9f00e6",
   "metadata": {},
   "source": [
    "### Первый подход на примере использования тяжелых моделей"
   ]
  },
  {
   "cell_type": "code",
   "execution_count": 5,
   "id": "92e9cb4e",
   "metadata": {},
   "outputs": [
    {
     "name": "stdout",
     "output_type": "stream",
     "text": [
      "Response from Ollama:\n",
      "Python — это высокоуровневый, интерпретируемый, объектно-ориентированный язык программирования. Он разработан в конце 1980-х годов и активно используется в качестве языка программирования для различных целей.  Вот более подробное объяснение:\n",
      "\n",
      "**1. Основные характеристики Python:**\n",
      "\n",
      "* **Читаемость:** Python известен своей четкой и лаконичной синтаксисом, что делает его относительно легким для понимания и чтения кода. Он похож на английский язык, что позволяет использовать его для понимания кода без глубокого знания программирования.\n",
      "* **Универсальность:** Python можно использовать для широкого спектра задач, от разработки веб-сайтов и приложений до анализа данных, машинного обучения и научных вычислений.\n",
      "* **Динамическая типизация:** Типы переменных определяются во время выполнения, а не во время компиляции. Это упрощает разработку, но может привести к ошибкам, если типы не проверяются правильно.\n",
      "* **Интерпретируемый:**  Код Python выполняется построчно интерпретатором, то есть не нужно предварительно компилировать его.\n",
      "* **Большая стандартная библиотека:** Python имеет обширную стандартную библиотеку, которая предоставляет множество готовых функций и модулей для различных задач.\n",
      "* **Огромное сообщество:** Python имеет огромное и активное сообщество разработчиков, которое активно поддерживает, пишет и распространяет код, а также предоставляет множество инструментов и ресурсов.\n",
      "\n",
      "**2.  Применение Python:**\n",
      "\n",
      "* **Веб-разработка:**  Python часто используется для создания веб-сайтов и веб-приложений благодаря фреймворкам, таким как Django и Flask.\n",
      "* **Анализ данных и Data Science:** Python - один из самых популярных языков для анализа данных, благодаря библиотекам, таким как NumPy, Pandas, Matplotlib и Scikit-learn.\n",
      "* **Машинное обучение (Machine Learning):** Python имеет обширные библиотеки для машинного обучения, такие как TensorFlow, PyTorch и Keras.\n",
      "* **Автоматизация:** Python используется для автоматизации задач, написания скриптов и администрирования систем.\n",
      "* **Игры:**  Несмотря на то, что не самый популярный язык для разработки AAA-игр, Python может использоваться для создания инструментов и скриптов для разработки игр.\n",
      "* **Обработка текста:**  Python использует библиотеки, такие как NLTK и spaCy, для анализа текста, машинного перевода и распознавания речи.\n",
      "* **Наука и Инженерия:** Python используется в областях, требующих высокой производительности, таких как моделирование и симуляция.\n",
      "\n",
      "**3.  Ключевые библиотеки Python:**\n",
      "\n",
      "* **NumPy:** Для работы с массивами и матрицами.\n",
      "* **Pandas:** Для анализа и манипулирования данными.\n",
      "* **Matplotlib:** Для создания графиков и визуализаций.\n",
      "* **Scikit-learn:**  Для машинного обучения.\n",
      "* **Django & Flask:** Для веб-разработки.\n",
      "* **TensorFlow & PyTorch:** Для глубокого обучения.\n",
      "\n",
      "**В заключение:** Python - это мощный, универсальный и удобный язык программирования, который нашел широкое применение в различных областях.  Его читаемость и гибкость делают его отличным выбором для начинающих и опытных разработчиков.\n",
      "\n",
      "**Где можно изучить Python?**\n",
      "\n",
      "* **Официальный сайт Python:** [https://www.python.org/](https://www.python.org/)\n",
      "* **Codecademy:** [https://www.codecademy.com/learn/learn-python-3](https://www.codecademy.com/learn/learn-python-3)\n",
      "* **FreeCodeCamp:** [https://www.freecodecamp.org/learn/python-3/](https://www.freecodecamp.org/learn/python-3/)\n",
      "\n",
      "Чтобы помочь вам лучше понять, что такое Python, задайте, пожалуйста, более конкретный вопрос. Например:\n",
      "\n",
      "* Вы хотите узнать, как начать программировать на Python?\n",
      "* Вам интересно, какие конкретно библиотеки Python используются в определенной области?\n",
      "* Хотите узнать о каких-либо особенностях синтаксиса Python?\n",
      "\n"
     ]
    }
   ],
   "source": [
    "import ollama\n",
    "\n",
    "\n",
    "client = ollama.Client()\n",
    "\n",
    "\n",
    "model = \"gemma3:1b\"\n",
    "prompt = \"Что такое Python?\"\n",
    "\n",
    "\n",
    "response = client.generate(model=model, prompt=prompt)\n",
    "\n",
    "print(\"Response from Ollama:\")\n",
    "print(response.response)"
   ]
  },
  {
   "cell_type": "code",
   "execution_count": 68,
   "id": "cfc7b658",
   "metadata": {},
   "outputs": [],
   "source": [
    "def execute_sql(sql):\n",
    "    try:\n",
    "        cursor.execute(sql)\n",
    "        con.commit()\n",
    "        return \"Успешно выполнено\"\n",
    "    except Exception as e:\n",
    "        return f\"Ошибка: {e}\""
   ]
  },
  {
   "cell_type": "code",
   "execution_count": 26,
   "id": "64242267",
   "metadata": {},
   "outputs": [],
   "source": [
    "# prompt = f\"\"\"\n",
    "#     У тебя есть таблица transactions со следующими столбцами:\n",
    "#     id, user_id, type (income/expense), category, amount, date, note.\n",
    "#     income - означает доход\n",
    "#     expense - означает трата\n",
    "\n",
    "#     вот пример создания таблицы:\n",
    "\n",
    "#     CREATE TABLE IF NOT EXISTS transactions (\n",
    "#         id INTEGER PRIMARY KEY AUTOINCREMENT,\n",
    "#         user_id TEXT,\n",
    "#         type TEXT CHECK(type IN ('income', 'expense')),\n",
    "#         category TEXT,\n",
    "#         amount REAL,\n",
    "#         date TIMESTAMP DEFAULT CURRENT_TIMESTAMP\n",
    "#     )\n",
    "\n",
    "#     Пользователь с ID {user_id} дал команду:\n",
    "#     \"{natural_language_input}\"\n",
    "\n",
    "#     Сгенерируй корректный SQL-запрос на SQLite для выполнения этого действия.\n",
    "#     Ответь только SQL-запросом, без пояснений.\n",
    "\n",
    "#     Всегда используй SQLite-синтаксис. Не добавляй пояснений, только SQL-запрос.\n",
    "\n",
    "#     Пример 1:\n",
    "#     Пользователь с ID user_1 дал команду:\n",
    "#     \"Добавь трату 500 рублей на еду вчера\"\n",
    "#     Ответ:\n",
    "#     INSERT INTO transactions (user_id, type, category, amount, date)\n",
    "#     VALUES ('user_1', 'expense', 'еда', 500, date('now', '-1 day'));\n",
    "\n",
    "#     Пример 2:\n",
    "#     Пользователь с ID user_2 дал команду:\n",
    "#     \"Я заработал 1500 рублей с фриланса\"\n",
    "#     Ответ:\n",
    "#     INSERT INTO transactions (user_id, type, category, amount)\n",
    "#     VALUES ('user_2', 'income', 'фриланс', 1500);\n",
    "\n",
    "#     Пример 3:\n",
    "#     Пользователь с ID user_3 дал команду:\n",
    "#     \"Покажи все мои траты за последнюю неделю\"\n",
    "#     Ответ:\n",
    "#     SELECT * FROM transactions\n",
    "#     WHERE user_id = 'user_3' AND type = 'expense' AND date >= date('now', '-7 day');\n",
    "\n",
    "#     Пример 4:\n",
    "#     Пользователь с ID user_4 дал команду:\n",
    "#     \"Измени сумму последней траты на транспорт до 300\"\n",
    "#     Ответ:\n",
    "#     UPDATE transactions\n",
    "#     SET amount = 300\n",
    "#     WHERE user_id = 'user_4' AND category = 'транспорт' AND type = 'expense'\n",
    "#     ORDER BY date DESC\n",
    "#     LIMIT 1;\n",
    "\n",
    "#     Пример 5:\n",
    "#     Пользователь с ID user_5 дал команду:\n",
    "#     \"Удалить последний доход\"\n",
    "#     Ответ:\n",
    "#     DELETE FROM transactions\n",
    "#     WHERE user_id = 'user_5' AND type = 'income'\n",
    "#     ORDER BY date DESC\n",
    "#     LIMIT 1;\n",
    "#     \"\"\""
   ]
  },
  {
   "cell_type": "code",
   "execution_count": 32,
   "id": "8e8fab38",
   "metadata": {},
   "outputs": [],
   "source": [
    "def load_prompts(system_path=\"../prompts/v1/system.yaml\", user_path=\"../prompts/v1/user.yaml\"):\n",
    "    with open(system_path, encoding=\"utf-8\") as f:\n",
    "        system_prompt = yaml.safe_load(f)[\"system_prompt\"]\n",
    "\n",
    "    with open(user_path, encoding=\"utf-8\") as f:\n",
    "        user_prompt_template = yaml.safe_load(f)[\"user_prompt_template\"]\n",
    "\n",
    "    return system_prompt, user_prompt_template"
   ]
  },
  {
   "cell_type": "code",
   "execution_count": 52,
   "id": "a29e1e07",
   "metadata": {},
   "outputs": [],
   "source": [
    "from pydantic import BaseModel, field_validator\n",
    "import re\n",
    "\n",
    "class SqlResponse(BaseModel):\n",
    "    sql: str\n",
    "\n",
    "    @field_validator(\"sql\", mode=\"before\")\n",
    "    @classmethod\n",
    "    def clean_sql_block(cls, value: str) -> str:\n",
    "        # Удаляем обёртки ```sql ... ```\n",
    "        value = re.sub(r\"```sql|```\", \"\", value, flags=re.IGNORECASE).strip()\n",
    "        return value\n",
    "\n",
    "    @field_validator(\"sql\")\n",
    "    @classmethod\n",
    "    def must_look_like_sql(cls, value: str) -> str:\n",
    "        if not re.match(r\"^(SELECT|INSERT|UPDATE|DELETE)\", value.strip(), re.IGNORECASE):\n",
    "            raise ValueError(\"Ответ не похож на SQL-запрос.\")\n",
    "        return value.strip()"
   ]
  },
  {
   "cell_type": "code",
   "execution_count": 56,
   "id": "80eb29f9",
   "metadata": {},
   "outputs": [],
   "source": [
    "def generate_sql(client, model, natural_language_input, user_id=\"user_1\"):\n",
    "    system_prompt, user_prompt_template = load_prompts()\n",
    "\n",
    "    user_prompt = user_prompt_template.format(user_id=user_id, input_text=natural_language_input)\n",
    "\n",
    "    response = client.chat(\n",
    "        model=model,\n",
    "        messages=[\n",
    "            {\"role\": \"system\", \"content\": system_prompt},\n",
    "            {\"role\": \"user\", \"content\": user_prompt}]\n",
    "    )\n",
    "\n",
    "    # raw_text = response[\"message\"][\"content\"]\n",
    "    # try:\n",
    "    #     parsed = SqlResponse(sql=raw_text)\n",
    "    #     return parsed.sql  # чистый SQL\n",
    "    # except Exception as e:\n",
    "    #     print(f\"❌ Ошибка парсинга ответа: {e}\")\n",
    "    #     print(f\"🔽 Сырой ответ:\\n{raw_text}\")\n",
    "    #     return None\n",
    "\n",
    "    return response"
   ]
  },
  {
   "cell_type": "code",
   "execution_count": null,
   "id": "c6803312",
   "metadata": {},
   "outputs": [],
   "source": [
    "sql_response = generate_sql(client=client, model=model, natural_language_input=\"Добавь трату 879 рублей в макдональдс позавчера\")"
   ]
  },
  {
   "cell_type": "code",
   "execution_count": 66,
   "id": "b3f4b57c",
   "metadata": {},
   "outputs": [
    {
     "name": "stdout",
     "output_type": "stream",
     "text": [
      "INSERT INTO transactions (user_id, type, category, amount, date)\n",
      "VALUES ('user_1', 'expense', 'макдональдс', 879, date('now', '-1 day'));\n"
     ]
    }
   ],
   "source": [
    "print(sql_response[\"message\"][\"content\"])"
   ]
  },
  {
   "cell_type": "code",
   "execution_count": 69,
   "id": "368baabe",
   "metadata": {},
   "outputs": [
    {
     "data": {
      "text/plain": [
       "'Успешно выполнено'"
      ]
     },
     "execution_count": 69,
     "metadata": {},
     "output_type": "execute_result"
    }
   ],
   "source": [
    "execute_sql(sql_response[\"message\"][\"content\"])"
   ]
  },
  {
   "cell_type": "code",
   "execution_count": null,
   "id": "3d54b464",
   "metadata": {},
   "outputs": [],
   "source": []
  },
  {
   "cell_type": "code",
   "execution_count": null,
   "id": "277dd8e0",
   "metadata": {},
   "outputs": [],
   "source": []
  }
 ],
 "metadata": {
  "kernelspec": {
   "display_name": "nlp",
   "language": "python",
   "name": "python3"
  },
  "language_info": {
   "codemirror_mode": {
    "name": "ipython",
    "version": 3
   },
   "file_extension": ".py",
   "mimetype": "text/x-python",
   "name": "python",
   "nbconvert_exporter": "python",
   "pygments_lexer": "ipython3",
   "version": "3.12.2"
  }
 },
 "nbformat": 4,
 "nbformat_minor": 5
}
