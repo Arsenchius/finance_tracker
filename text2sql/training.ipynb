{
 "cells": [
  {
   "cell_type": "code",
   "execution_count": 5,
   "id": "351b3e3c",
   "metadata": {},
   "outputs": [],
   "source": [
    "import pandas as pd\n",
    "from sklearn.model_selection import train_test_split\n",
    "from datasets import Dataset, DatasetDict\n",
    "\n",
    "df = pd.read_csv('data/data_translated.csv')\n",
    "\n",
    "train_df, test_df = train_test_split(df, test_size=0.1, random_state=77)"
   ]
  },
  {
   "cell_type": "code",
   "execution_count": 6,
   "id": "a73e10e9",
   "metadata": {},
   "outputs": [],
   "source": [
    "train_dataset = Dataset.from_pandas(train_df)\n",
    "test_dataset = Dataset.from_pandas(test_df)\n",
    "\n",
    "dataset = DatasetDict({\n",
    "    \"train\": train_dataset,\n",
    "    \"test\": test_dataset\n",
    "})"
   ]
  },
  {
   "cell_type": "code",
   "execution_count": 7,
   "id": "8948e462",
   "metadata": {},
   "outputs": [
    {
     "data": {
      "text/plain": [
       "DatasetDict({\n",
       "    train: Dataset({\n",
       "        features: ['context', 'question', 'answer', 'translated_question', '__index_level_0__'],\n",
       "        num_rows: 70719\n",
       "    })\n",
       "    test: Dataset({\n",
       "        features: ['context', 'question', 'answer', 'translated_question', '__index_level_0__'],\n",
       "        num_rows: 7858\n",
       "    })\n",
       "})"
      ]
     },
     "execution_count": 7,
     "metadata": {},
     "output_type": "execute_result"
    }
   ],
   "source": [
    "dataset"
   ]
  },
  {
   "cell_type": "code",
   "execution_count": 10,
   "id": "13d5191e",
   "metadata": {},
   "outputs": [
    {
     "data": {
      "application/vnd.jupyter.widget-view+json": {
       "model_id": "93995fad772c40249a887bac04bf51b9",
       "version_major": 2,
       "version_minor": 0
      },
      "text/plain": [
       "Creating CSV from Arrow format:   0%|          | 0/71 [00:00<?, ?ba/s]"
      ]
     },
     "metadata": {},
     "output_type": "display_data"
    },
    {
     "data": {
      "text/plain": [
       "23600865"
      ]
     },
     "execution_count": 10,
     "metadata": {},
     "output_type": "execute_result"
    }
   ],
   "source": [
    "train_dataset.to_csv('data/train.csv', index=False)"
   ]
  },
  {
   "cell_type": "code",
   "execution_count": 9,
   "id": "332fac26",
   "metadata": {},
   "outputs": [
    {
     "data": {
      "application/vnd.jupyter.widget-view+json": {
       "model_id": "85b6e001bc4549b99d9750181bf7c112",
       "version_major": 2,
       "version_minor": 0
      },
      "text/plain": [
       "Creating CSV from Arrow format:   0%|          | 0/8 [00:00<?, ?ba/s]"
      ]
     },
     "metadata": {},
     "output_type": "display_data"
    },
    {
     "data": {
      "text/plain": [
       "2626410"
      ]
     },
     "execution_count": 9,
     "metadata": {},
     "output_type": "execute_result"
    }
   ],
   "source": [
    "test_dataset.to_csv('data/test.csv', index=False)"
   ]
  },
  {
   "cell_type": "markdown",
   "id": "4b60154c",
   "metadata": {},
   "source": [
    "### Exact Match"
   ]
  },
  {
   "cell_type": "code",
   "execution_count": 8,
   "id": "632452bc",
   "metadata": {},
   "outputs": [],
   "source": [
    "def compute_exact_match(predictions, references):\n",
    "    match_count = 0\n",
    "    for pred, ref in zip(predictions, references):\n",
    "        if pred.strip().lower() == ref.strip().lower():\n",
    "            match_count += 1\n",
    "    return match_count / len(predictions)"
   ]
  },
  {
   "cell_type": "code",
   "execution_count": 18,
   "id": "d1a05404",
   "metadata": {},
   "outputs": [
    {
     "data": {
      "text/html": [
       "<div>\n",
       "<style scoped>\n",
       "    .dataframe tbody tr th:only-of-type {\n",
       "        vertical-align: middle;\n",
       "    }\n",
       "\n",
       "    .dataframe tbody tr th {\n",
       "        vertical-align: top;\n",
       "    }\n",
       "\n",
       "    .dataframe thead th {\n",
       "        text-align: right;\n",
       "    }\n",
       "</style>\n",
       "<table border=\"1\" class=\"dataframe\">\n",
       "  <thead>\n",
       "    <tr style=\"text-align: right;\">\n",
       "      <th></th>\n",
       "      <th>question</th>\n",
       "      <th>sql</th>\n",
       "      <th>sql_user_filtered</th>\n",
       "      <th>result</th>\n",
       "    </tr>\n",
       "  </thead>\n",
       "  <tbody>\n",
       "    <tr>\n",
       "      <th>0</th>\n",
       "      <td>Сколько я получил за последние 7 дней?</td>\n",
       "      <td>SELECT SUM(amount) FROM transactions WHERE typ...</td>\n",
       "      <td>SELECT SUM(amount) FROM transactions WHERE typ...</td>\n",
       "      <td>[(42005761.0,)]</td>\n",
       "    </tr>\n",
       "    <tr>\n",
       "      <th>1</th>\n",
       "      <td>Какие у меня были доходы в августе 2023?</td>\n",
       "      <td>SELECT * FROM transactions WHERE type = 'incom...</td>\n",
       "      <td>SELECT * FROM transactions WHERE type = 'incom...</td>\n",
       "      <td>[(85, 'u1', 'income', 'income', 120236.0, '202...</td>\n",
       "    </tr>\n",
       "    <tr>\n",
       "      <th>2</th>\n",
       "      <td>Какие у меня были доходы в октябре 2023?</td>\n",
       "      <td>SELECT * FROM transactions WHERE type = 'incom...</td>\n",
       "      <td>SELECT * FROM transactions WHERE type = 'incom...</td>\n",
       "      <td>[(143, 'u1', 'income', 'expense', 13264.0, '20...</td>\n",
       "    </tr>\n",
       "    <tr>\n",
       "      <th>3</th>\n",
       "      <td>Сколько в среднем я трачу на ресторан?</td>\n",
       "      <td>SELECT AVG(amount) FROM transactions WHERE typ...</td>\n",
       "      <td>SELECT AVG(amount) FROM transactions WHERE typ...</td>\n",
       "      <td>[(99684.1463357252,)]</td>\n",
       "    </tr>\n",
       "    <tr>\n",
       "      <th>4</th>\n",
       "      <td>Сколько я получил за последние 30 дней?</td>\n",
       "      <td>SELECT SUM(amount) FROM transactions WHERE typ...</td>\n",
       "      <td>SELECT SUM(amount) FROM transactions WHERE typ...</td>\n",
       "      <td>[(157382139.0,)]</td>\n",
       "    </tr>\n",
       "  </tbody>\n",
       "</table>\n",
       "</div>"
      ],
      "text/plain": [
       "                                   question  \\\n",
       "0    Сколько я получил за последние 7 дней?   \n",
       "1  Какие у меня были доходы в августе 2023?   \n",
       "2  Какие у меня были доходы в октябре 2023?   \n",
       "3    Сколько в среднем я трачу на ресторан?   \n",
       "4   Сколько я получил за последние 30 дней?   \n",
       "\n",
       "                                                 sql  \\\n",
       "0  SELECT SUM(amount) FROM transactions WHERE typ...   \n",
       "1  SELECT * FROM transactions WHERE type = 'incom...   \n",
       "2  SELECT * FROM transactions WHERE type = 'incom...   \n",
       "3  SELECT AVG(amount) FROM transactions WHERE typ...   \n",
       "4  SELECT SUM(amount) FROM transactions WHERE typ...   \n",
       "\n",
       "                                   sql_user_filtered  \\\n",
       "0  SELECT SUM(amount) FROM transactions WHERE typ...   \n",
       "1  SELECT * FROM transactions WHERE type = 'incom...   \n",
       "2  SELECT * FROM transactions WHERE type = 'incom...   \n",
       "3  SELECT AVG(amount) FROM transactions WHERE typ...   \n",
       "4  SELECT SUM(amount) FROM transactions WHERE typ...   \n",
       "\n",
       "                                              result  \n",
       "0                                    [(42005761.0,)]  \n",
       "1  [(85, 'u1', 'income', 'income', 120236.0, '202...  \n",
       "2  [(143, 'u1', 'income', 'expense', 13264.0, '20...  \n",
       "3                              [(99684.1463357252,)]  \n",
       "4                                   [(157382139.0,)]  "
      ]
     },
     "execution_count": 18,
     "metadata": {},
     "output_type": "execute_result"
    }
   ],
   "source": [
    "execution_test_df = pd.read_csv(\"data/execution_test_select.csv\")\n",
    "execution_test_df.head()"
   ]
  },
  {
   "cell_type": "code",
   "execution_count": null,
   "id": "fbcf2f15",
   "metadata": {},
   "outputs": [],
   "source": []
  },
  {
   "cell_type": "code",
   "execution_count": null,
   "id": "b17a7523",
   "metadata": {},
   "outputs": [],
   "source": []
  },
  {
   "cell_type": "code",
   "execution_count": null,
   "id": "ba4a4d95",
   "metadata": {},
   "outputs": [],
   "source": []
  }
 ],
 "metadata": {
  "kernelspec": {
   "display_name": "nlp",
   "language": "python",
   "name": "python3"
  },
  "language_info": {
   "codemirror_mode": {
    "name": "ipython",
    "version": 3
   },
   "file_extension": ".py",
   "mimetype": "text/x-python",
   "name": "python",
   "nbconvert_exporter": "python",
   "pygments_lexer": "ipython3",
   "version": "3.12.2"
  }
 },
 "nbformat": 4,
 "nbformat_minor": 5
}
