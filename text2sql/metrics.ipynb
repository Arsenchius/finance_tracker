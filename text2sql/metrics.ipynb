{
 "cells": [
  {
   "cell_type": "code",
   "execution_count": 5,
   "id": "bda86ffa",
   "metadata": {},
   "outputs": [],
   "source": [
    "import ollama\n",
    "import sqlite3\n",
    "import pandas as pd\n",
    "import re\n",
    "\n",
    "from tqdm.notebook import tqdm"
   ]
  },
  {
   "cell_type": "code",
   "execution_count": 6,
   "id": "afbe9b37",
   "metadata": {},
   "outputs": [],
   "source": [
    "def format_test_example(row) -> str:\n",
    "    return f\"\"\"<|system|>\n",
    "Ты — интеллектуальный текстовый помощник, преобразующий команды пользователя в корректные SQL-запросы на языке SQLite.\n",
    "\n",
    "Ты всегда работаешь с таблицей `transactions`, имеющей следующую структуру:\n",
    "\n",
    "- id (INTEGER, PRIMARY KEY)\n",
    "- user_id (TEXT)\n",
    "- type (TEXT: 'income' или 'expense')\n",
    "- category (TEXT)\n",
    "- amount (REAL)\n",
    "- date (TIMESTAMP, по умолчанию date('now', 'localtime'))\n",
    "\n",
    "Описание:\n",
    "- `income` — это доход\n",
    "- `expense` — это трата\n",
    "\n",
    "Твоя задача — по команде пользователя с его ID сгенерировать корректный SQL-запрос к этой таблице.\n",
    "\n",
    "Важно:\n",
    "- Используй только SQLite-синтаксис, без пояснений.\n",
    "- Не пиши комментарии.\n",
    "- Не используй несуществующие поля (например, `note`).\n",
    "- Поле `date` можно указывать через date('now', '-N day') или опустить (будет по умолчанию).\n",
    "\n",
    "Пример:\n",
    "---\n",
    "Пользователь с ID user_1 дал команду:\n",
    "\"Добавь трату 500 рублей на еду вчера\"\n",
    "\n",
    "Ответ:\n",
    "INSERT INTO transactions (user_id, type, category, amount, date)\n",
    "VALUES ('user_1', 'expense', 'еда', 500, date('now', '-1 day'));\n",
    "---\n",
    "</s>\n",
    "<|user|>\n",
    "Пользователь с ID {row[\"user_id\"]} дал команду:\n",
    "\"{row[\"user_command\"]}\"\n",
    "</s>\n",
    "<|assistant|>\n",
    "\"\"\""
   ]
  },
  {
   "cell_type": "code",
   "execution_count": 7,
   "id": "7377e7b4",
   "metadata": {},
   "outputs": [],
   "source": [
    "def clean_sql(text):\n",
    "    \"\"\"\n",
    "    Удаляет обёртки ```sql ... ``` и специальные токены вроде </s>, <|...|>.\n",
    "    \"\"\"\n",
    "    if not isinstance(text, str):\n",
    "        return \"\"\n",
    "\n",
    "    # Убираем блоки ```sql и ```\n",
    "    text = re.sub(r\"```sql\\s*\", \"\", text, flags=re.IGNORECASE)\n",
    "    text = re.sub(r\"```\", \"\", text)\n",
    "\n",
    "    # Убираем спецтокены LLM\n",
    "    text = re.sub(r\"</s>\", \"\", text)\n",
    "    text = re.sub(r\"<\\|.*?\\|>\", \"\", text)\n",
    "\n",
    "    return text.strip()\n",
    "\n",
    "def strip_think_block(text):\n",
    "    return re.sub(r\"<think>.*?</think>\", \"\", text, flags=re.DOTALL).strip()"
   ]
  },
  {
   "cell_type": "code",
   "execution_count": 8,
   "id": "f3f4e15b",
   "metadata": {},
   "outputs": [],
   "source": [
    "def generate_sql_from_df(test_df, client, model):\n",
    "    predicted_sqls = []\n",
    "\n",
    "    for _, row in tqdm(test_df.iterrows(), total=len(test_df)):\n",
    "        prompt = format_test_example(row)\n",
    "        response = client.generate(model=model, prompt=prompt)\n",
    "\n",
    "        sql = response.response.split(\"<|assistant|>\")[-1].strip()\n",
    "        sql_without_think = strip_think_block(sql)\n",
    "        predicted_sqls.append(clean_sql(sql_without_think))\n",
    "\n",
    "    test_df[\"predicted_sql\"] = predicted_sqls\n",
    "    return test_df"
   ]
  },
  {
   "cell_type": "code",
   "execution_count": 9,
   "id": "c6f5bf8f",
   "metadata": {},
   "outputs": [],
   "source": [
    "def normalize_sql(sql: str) -> str:\n",
    "    return sql.strip().lower().rstrip(\";\")\n",
    "\n",
    "def exact_match(pred: str, gold: str) -> bool:\n",
    "    return normalize_sql(pred) == normalize_sql(gold)\n",
    "\n",
    "def execute_sql(sql: str, db_path: str):\n",
    "    try:\n",
    "        conn = sqlite3.connect(db_path)\n",
    "        cursor = conn.cursor()\n",
    "        cursor.execute(sql)\n",
    "        rows = cursor.fetchall()\n",
    "        conn.close()\n",
    "        return sorted(rows)\n",
    "    except Exception as e:\n",
    "        return f\"[ERROR] {e}\""
   ]
  },
  {
   "cell_type": "code",
   "execution_count": 10,
   "id": "0bc7cd27",
   "metadata": {},
   "outputs": [],
   "source": [
    "def evaluate_sql_quality(df, sql_col=\"predicted_sql\", gold_col=\"gold_sql\", db_path=\"db_path\"):\n",
    "    exact_matches = []\n",
    "    execution_matches = []\n",
    "\n",
    "    for _, row in df.iterrows():\n",
    "        pred_sql = row[sql_col]\n",
    "        gold_sql = row[gold_col]\n",
    "\n",
    "        exact = exact_match(pred_sql, gold_sql)\n",
    "        exact_matches.append(exact)\n",
    "\n",
    "        pred_result = execute_sql(pred_sql, db_path)\n",
    "        gold_result = execute_sql(gold_sql, db_path)\n",
    "        exec_match = pred_result == gold_result\n",
    "        execution_matches.append(exec_match)\n",
    "\n",
    "    df[\"exact_match\"] = exact_matches\n",
    "    df[\"exec_match\"] = execution_matches\n",
    "\n",
    "    exact_acc = sum(exact_matches) / len(df)\n",
    "    exec_acc = sum(execution_matches) / len(df)\n",
    "\n",
    "    return {\n",
    "        \"exact_match_accuracy\": round(exact_acc, 4),\n",
    "        \"execution_accuracy\": round(exec_acc, 4),\n",
    "        \"df\": df\n",
    "    }"
   ]
  },
  {
   "cell_type": "code",
   "execution_count": 11,
   "id": "1df04dbc",
   "metadata": {},
   "outputs": [],
   "source": [
    "client = ollama.Client()"
   ]
  },
  {
   "cell_type": "code",
   "execution_count": 12,
   "id": "cc94b51d",
   "metadata": {},
   "outputs": [],
   "source": [
    "test_df = pd.read_csv(\"data/fin_ass_test.csv\")"
   ]
  },
  {
   "cell_type": "code",
   "execution_count": 13,
   "id": "ca4cdf5e",
   "metadata": {},
   "outputs": [
    {
     "data": {
      "text/plain": [
       "(1000, 3)"
      ]
     },
     "execution_count": 13,
     "metadata": {},
     "output_type": "execute_result"
    }
   ],
   "source": [
    "test_df.shape"
   ]
  },
  {
   "cell_type": "code",
   "execution_count": 72,
   "id": "ecf85ac8",
   "metadata": {},
   "outputs": [],
   "source": [
    "models = [\"llama3.2:1b\", \"llama3.2:3b\", \"gemma3:4b\", \"gemma3:1b\"]"
   ]
  },
  {
   "cell_type": "code",
   "execution_count": 26,
   "id": "079a83dc",
   "metadata": {},
   "outputs": [],
   "source": [
    "all_results = {\n",
    "    \"model\": [],\n",
    "    \"exact_match_accuracy\": [],\n",
    "    \"execution_accuracy\": []\n",
    "}"
   ]
  },
  {
   "cell_type": "code",
   "execution_count": 64,
   "id": "cc1a458b",
   "metadata": {},
   "outputs": [
    {
     "name": "stdout",
     "output_type": "stream",
     "text": [
      "Execution for llama3.2:1b model...\n"
     ]
    },
    {
     "data": {
      "application/vnd.jupyter.widget-view+json": {
       "model_id": "f973c62e1a4e4893b07b5ea97c2d135d",
       "version_major": 2,
       "version_minor": 0
      },
      "text/plain": [
       "  0%|          | 0/1000 [00:00<?, ?it/s]"
      ]
     },
     "metadata": {},
     "output_type": "display_data"
    },
    {
     "name": "stdout",
     "output_type": "stream",
     "text": [
      "Execution for llama3.2:3b model...\n"
     ]
    },
    {
     "data": {
      "application/vnd.jupyter.widget-view+json": {
       "model_id": "8778b456ab32413dac0110ec3c5c57f0",
       "version_major": 2,
       "version_minor": 0
      },
      "text/plain": [
       "  0%|          | 0/1000 [00:00<?, ?it/s]"
      ]
     },
     "metadata": {},
     "output_type": "display_data"
    },
    {
     "name": "stdout",
     "output_type": "stream",
     "text": [
      "Execution for gemma3:4b model...\n"
     ]
    },
    {
     "data": {
      "application/vnd.jupyter.widget-view+json": {
       "model_id": "fce64dfb5b0944238ec02870448502bb",
       "version_major": 2,
       "version_minor": 0
      },
      "text/plain": [
       "  0%|          | 0/1000 [00:00<?, ?it/s]"
      ]
     },
     "metadata": {},
     "output_type": "display_data"
    }
   ],
   "source": [
    "for model in models:\n",
    "    print(f\"Execution for {model} model...\")\n",
    "    temp = generate_sql_from_df(test_df=test_df,client=client,model=model)\n",
    "    results = evaluate_sql_quality(temp, db_path=\"data/transactions.db\")\n",
    "    all_results[\"model\"].append(model)\n",
    "    all_results[\"exact_match_accuracy\"].append(results[\"exact_match_accuracy\"])\n",
    "    all_results[\"execution_accuracy\"].append(results[\"execution_accuracy\"])"
   ]
  },
  {
   "cell_type": "code",
   "execution_count": 70,
   "id": "ee75f136",
   "metadata": {},
   "outputs": [
    {
     "data": {
      "text/html": [
       "<div>\n",
       "<style scoped>\n",
       "    .dataframe tbody tr th:only-of-type {\n",
       "        vertical-align: middle;\n",
       "    }\n",
       "\n",
       "    .dataframe tbody tr th {\n",
       "        vertical-align: top;\n",
       "    }\n",
       "\n",
       "    .dataframe thead th {\n",
       "        text-align: right;\n",
       "    }\n",
       "</style>\n",
       "<table border=\"1\" class=\"dataframe\">\n",
       "  <thead>\n",
       "    <tr style=\"text-align: right;\">\n",
       "      <th></th>\n",
       "      <th>model</th>\n",
       "      <th>exact_match_accuracy</th>\n",
       "      <th>execution_accuracy</th>\n",
       "    </tr>\n",
       "  </thead>\n",
       "  <tbody>\n",
       "    <tr>\n",
       "      <th>0</th>\n",
       "      <td>llama3.2:1b</td>\n",
       "      <td>0.001</td>\n",
       "      <td>0.274</td>\n",
       "    </tr>\n",
       "    <tr>\n",
       "      <th>1</th>\n",
       "      <td>llama3.2:3b</td>\n",
       "      <td>0.066</td>\n",
       "      <td>0.547</td>\n",
       "    </tr>\n",
       "    <tr>\n",
       "      <th>2</th>\n",
       "      <td>gemma3:4b</td>\n",
       "      <td>0.150</td>\n",
       "      <td>0.965</td>\n",
       "    </tr>\n",
       "    <tr>\n",
       "      <th>3</th>\n",
       "      <td>gemma3:1b</td>\n",
       "      <td>0.029</td>\n",
       "      <td>0.533</td>\n",
       "    </tr>\n",
       "  </tbody>\n",
       "</table>\n",
       "</div>"
      ],
      "text/plain": [
       "         model  exact_match_accuracy  execution_accuracy\n",
       "0  llama3.2:1b                 0.001               0.274\n",
       "1  llama3.2:3b                 0.066               0.547\n",
       "2    gemma3:4b                 0.150               0.965\n",
       "3    gemma3:1b                 0.029               0.533"
      ]
     },
     "execution_count": 70,
     "metadata": {},
     "output_type": "execute_result"
    }
   ],
   "source": [
    "pd.DataFrame(all_results)"
   ]
  },
  {
   "cell_type": "code",
   "execution_count": null,
   "id": "6c0074a6",
   "metadata": {},
   "outputs": [],
   "source": []
  }
 ],
 "metadata": {
  "kernelspec": {
   "display_name": "nlp",
   "language": "python",
   "name": "python3"
  },
  "language_info": {
   "codemirror_mode": {
    "name": "ipython",
    "version": 3
   },
   "file_extension": ".py",
   "mimetype": "text/x-python",
   "name": "python",
   "nbconvert_exporter": "python",
   "pygments_lexer": "ipython3",
   "version": "3.12.2"
  }
 },
 "nbformat": 4,
 "nbformat_minor": 5
}
