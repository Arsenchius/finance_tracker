{
 "cells": [
  {
   "cell_type": "code",
   "execution_count": 4,
   "id": "0b21bbc6",
   "metadata": {},
   "outputs": [],
   "source": [
    "import pandas as pd\n",
    "from deep_translator import GoogleTranslator\n",
    "from tqdm.notebook import tqdm\n",
    "\n",
    "from sklearn.model_selection import train_test_split"
   ]
  },
  {
   "cell_type": "code",
   "execution_count": 2,
   "id": "df80671b",
   "metadata": {},
   "outputs": [
    {
     "data": {
      "text/html": [
       "<div>\n",
       "<style scoped>\n",
       "    .dataframe tbody tr th:only-of-type {\n",
       "        vertical-align: middle;\n",
       "    }\n",
       "\n",
       "    .dataframe tbody tr th {\n",
       "        vertical-align: top;\n",
       "    }\n",
       "\n",
       "    .dataframe thead th {\n",
       "        text-align: right;\n",
       "    }\n",
       "</style>\n",
       "<table border=\"1\" class=\"dataframe\">\n",
       "  <thead>\n",
       "    <tr style=\"text-align: right;\">\n",
       "      <th></th>\n",
       "      <th>context</th>\n",
       "      <th>question</th>\n",
       "      <th>answer</th>\n",
       "    </tr>\n",
       "  </thead>\n",
       "  <tbody>\n",
       "    <tr>\n",
       "      <th>0</th>\n",
       "      <td>CREATE TABLE head (age INTEGER)</td>\n",
       "      <td>How many heads of the departments are older th...</td>\n",
       "      <td>SELECT COUNT(*) FROM head WHERE age &gt; 56</td>\n",
       "    </tr>\n",
       "    <tr>\n",
       "      <th>1</th>\n",
       "      <td>CREATE TABLE head (name VARCHAR, born_state VA...</td>\n",
       "      <td>List the name, born state and age of the heads...</td>\n",
       "      <td>SELECT name, born_state, age FROM head ORDER B...</td>\n",
       "    </tr>\n",
       "    <tr>\n",
       "      <th>2</th>\n",
       "      <td>CREATE TABLE department (creation VARCHAR, nam...</td>\n",
       "      <td>List the creation year, name and budget of eac...</td>\n",
       "      <td>SELECT creation, name, budget_in_billions FROM...</td>\n",
       "    </tr>\n",
       "  </tbody>\n",
       "</table>\n",
       "</div>"
      ],
      "text/plain": [
       "                                             context  \\\n",
       "0                    CREATE TABLE head (age INTEGER)   \n",
       "1  CREATE TABLE head (name VARCHAR, born_state VA...   \n",
       "2  CREATE TABLE department (creation VARCHAR, nam...   \n",
       "\n",
       "                                            question  \\\n",
       "0  How many heads of the departments are older th...   \n",
       "1  List the name, born state and age of the heads...   \n",
       "2  List the creation year, name and budget of eac...   \n",
       "\n",
       "                                              answer  \n",
       "0           SELECT COUNT(*) FROM head WHERE age > 56  \n",
       "1  SELECT name, born_state, age FROM head ORDER B...  \n",
       "2  SELECT creation, name, budget_in_billions FROM...  "
      ]
     },
     "execution_count": 2,
     "metadata": {},
     "output_type": "execute_result"
    }
   ],
   "source": [
    "df = pd.read_csv(\"data/data.csv\")\n",
    "df.head(3)"
   ]
  },
  {
   "cell_type": "code",
   "execution_count": 3,
   "id": "d13d8b8b",
   "metadata": {},
   "outputs": [
    {
     "data": {
      "text/plain": [
       "(78577, 3)"
      ]
     },
     "execution_count": 3,
     "metadata": {},
     "output_type": "execute_result"
    }
   ],
   "source": [
    "df.shape"
   ]
  },
  {
   "cell_type": "code",
   "execution_count": 47,
   "id": "18e2f75d",
   "metadata": {},
   "outputs": [],
   "source": [
    "translator = GoogleTranslator(api_key=\"...\",source=\"en\", target=\"ru\")\n",
    "tqdm.pandas(desc=\"Перевод вопросов\")"
   ]
  },
  {
   "cell_type": "code",
   "execution_count": 5,
   "id": "d68add8e",
   "metadata": {},
   "outputs": [],
   "source": [
    "def translate_safe(text):\n",
    "    try:\n",
    "        return translator.translate(text)\n",
    "    except Exception as e:\n",
    "        print(f\"[!] Ошибка перевода: {e}\")\n",
    "        return text"
   ]
  },
  {
   "cell_type": "code",
   "execution_count": 6,
   "id": "0fa08f0b",
   "metadata": {},
   "outputs": [
    {
     "data": {
      "text/plain": [
       "'Сколько голов отделов старше 56 лет?'"
      ]
     },
     "execution_count": 6,
     "metadata": {},
     "output_type": "execute_result"
    }
   ],
   "source": [
    "temp = df.iloc[0][\"question\"]\n",
    "translator.translate(temp)"
   ]
  },
  {
   "cell_type": "code",
   "execution_count": null,
   "id": "724a9d7c",
   "metadata": {},
   "outputs": [],
   "source": [
    "df[\"question_ru\"] = df[\"question\"].progress_apply(translate_safe)"
   ]
  },
  {
   "cell_type": "code",
   "execution_count": 24,
   "id": "ac39393f",
   "metadata": {},
   "outputs": [],
   "source": [
    "import requests\n",
    "\n",
    "def translate_with_ollama(text: str, model='llama3.2'):\n",
    "    prompt = (\n",
    "        f\"Переведи следующий текст с английского на русский язык.\\n\"\n",
    "        f\"Верни только перевод без пояснений, без кавычек, без альтернатив.\\n\"\n",
    "        f\"Только сам перевод, ничего лишнего:\\n\\n\"\n",
    "        f\"{text}\"\n",
    "    )\n",
    "\n",
    "    payload = {\n",
    "        \"model\": model,\n",
    "        \"prompt\": prompt,\n",
    "        \"stream\": False,\n",
    "        \"options\": {\n",
    "            \"temperature\": 0.0,\n",
    "        },\n",
    "    }\n",
    "\n",
    "    res = requests.post(\"http://localhost:11434/api/generate\", json=payload)\n",
    "    res.raise_for_status()\n",
    "\n",
    "    return res.json()['response'].strip()"
   ]
  },
  {
   "cell_type": "code",
   "execution_count": 25,
   "id": "d5af92d9",
   "metadata": {},
   "outputs": [
    {
     "data": {
      "text/plain": [
       "'Количество глав министерств старше 56 лет.'"
      ]
     },
     "execution_count": 25,
     "metadata": {},
     "output_type": "execute_result"
    }
   ],
   "source": [
    "translate_with_ollama(temp)"
   ]
  },
  {
   "cell_type": "code",
   "execution_count": null,
   "id": "b299fffe",
   "metadata": {},
   "outputs": [],
   "source": [
    "df[\"question_ru\"] = df[\"question\"].progress_apply(translate_safe)"
   ]
  },
  {
   "cell_type": "code",
   "execution_count": 23,
   "id": "a291acf7",
   "metadata": {},
   "outputs": [
    {
     "data": {
      "text/plain": [
       "(78577, 3)"
      ]
     },
     "execution_count": 23,
     "metadata": {},
     "output_type": "execute_result"
    }
   ],
   "source": [
    "data_translated = pd.read_csv(\"data/translated_dataset.csv\")\n",
    "data_translated.shape"
   ]
  },
  {
   "cell_type": "code",
   "execution_count": 20,
   "id": "d9e579be",
   "metadata": {},
   "outputs": [
    {
     "data": {
      "text/plain": [
       "'[ОШИБКА] 404 Client Error: Not Found for url: http://localhost:11434/api/generate'"
      ]
     },
     "execution_count": 20,
     "metadata": {},
     "output_type": "execute_result"
    }
   ],
   "source": [
    "data_translated[\"question_ru\"].iloc[0]"
   ]
  },
  {
   "cell_type": "code",
   "execution_count": 27,
   "id": "e9885ffe",
   "metadata": {},
   "outputs": [],
   "source": [
    "with open(\"questions_for_translation.txt\", \"w\", encoding=\"utf-8\") as f:\n",
    "    for q in df[\"question\"]:\n",
    "        f.write(q.strip() + \"\\n\")"
   ]
  },
  {
   "cell_type": "code",
   "execution_count": null,
   "id": "2cff4825",
   "metadata": {},
   "outputs": [
    {
     "name": "stdout",
     "output_type": "stream",
     "text": [
      "✅ Сохранено: split_txt/questions_part1.txt\n",
      "✅ Сохранено: split_txt/questions_part2.txt\n",
      "✅ Сохранено: split_txt/questions_part3.txt\n",
      "✅ Сохранено: split_txt/questions_part4.txt\n",
      "✅ Сохранено: split_txt/questions_part5.txt\n",
      "✅ Сохранено: split_txt/questions_part6.txt\n"
     ]
    }
   ],
   "source": [
    "import os\n",
    "import math\n",
    "\n",
    "\n",
    "with open(\"questions_for_translation.txt\", encoding=\"utf-8\") as f:\n",
    "    lines = [line.strip() for line in f if line.strip()]\n",
    "\n",
    "\n",
    "chunk_size = math.ceil(len(lines) / 6)\n",
    "chunks = [lines[i:i + chunk_size] for i in range(0, len(lines), chunk_size)]\n",
    "\n",
    "os.makedirs(\"split_txt\", exist_ok=True)\n",
    "\n",
    "for i, chunk in enumerate(chunks, start=1):\n",
    "    filename = f\"split_txt/questions_part{i}.txt\"\n",
    "    with open(filename, \"w\", encoding=\"utf-8\") as f:\n",
    "        for line in chunk:\n",
    "            f.write(line + \"\\n\")\n",
    "    print(f\"✅ Сохранено: {filename}\")"
   ]
  },
  {
   "cell_type": "code",
   "execution_count": 33,
   "id": "fe0be1d1",
   "metadata": {},
   "outputs": [],
   "source": [
    "translated_parts = [\n",
    "    \"split_txt/questions_part1_ru.txt\",\n",
    "    \"split_txt/questions_part2_ru.txt\",\n",
    "    \"split_txt/questions_part3_ru.txt\",\n",
    "    \"split_txt/questions_part4_ru.txt\",\n",
    "    \"split_txt/questions_part5_ru.txt\",\n",
    "    \"split_txt/questions_part6_ru.txt\"\n",
    "]\n",
    "\n",
    "all_lines = []\n",
    "for part in translated_parts:\n",
    "    with open(part, \"r\", encoding=\"utf-8\") as f:\n",
    "        all_lines.extend(f.readlines())"
   ]
  },
  {
   "cell_type": "code",
   "execution_count": 35,
   "id": "c1745e8c",
   "metadata": {},
   "outputs": [
    {
     "data": {
      "text/plain": [
       "78577"
      ]
     },
     "execution_count": 35,
     "metadata": {},
     "output_type": "execute_result"
    }
   ],
   "source": [
    "len(all_lines)"
   ]
  },
  {
   "cell_type": "code",
   "execution_count": 36,
   "id": "0ae86f94",
   "metadata": {},
   "outputs": [],
   "source": [
    "df[\"translated_question\"] = all_lines"
   ]
  },
  {
   "cell_type": "code",
   "execution_count": 37,
   "id": "53dfc328",
   "metadata": {},
   "outputs": [
    {
     "data": {
      "text/plain": [
       "(78577, 4)"
      ]
     },
     "execution_count": 37,
     "metadata": {},
     "output_type": "execute_result"
    }
   ],
   "source": [
    "df.shape"
   ]
  },
  {
   "cell_type": "code",
   "execution_count": 38,
   "id": "884a0b41",
   "metadata": {},
   "outputs": [
    {
     "data": {
      "text/html": [
       "<div>\n",
       "<style scoped>\n",
       "    .dataframe tbody tr th:only-of-type {\n",
       "        vertical-align: middle;\n",
       "    }\n",
       "\n",
       "    .dataframe tbody tr th {\n",
       "        vertical-align: top;\n",
       "    }\n",
       "\n",
       "    .dataframe thead th {\n",
       "        text-align: right;\n",
       "    }\n",
       "</style>\n",
       "<table border=\"1\" class=\"dataframe\">\n",
       "  <thead>\n",
       "    <tr style=\"text-align: right;\">\n",
       "      <th></th>\n",
       "      <th>context</th>\n",
       "      <th>question</th>\n",
       "      <th>answer</th>\n",
       "      <th>translated_question</th>\n",
       "    </tr>\n",
       "  </thead>\n",
       "  <tbody>\n",
       "    <tr>\n",
       "      <th>0</th>\n",
       "      <td>CREATE TABLE head (age INTEGER)</td>\n",
       "      <td>How many heads of the departments are older th...</td>\n",
       "      <td>SELECT COUNT(*) FROM head WHERE age &gt; 56</td>\n",
       "      <td>Сколько руководителей департаментов старше 56 ...</td>\n",
       "    </tr>\n",
       "    <tr>\n",
       "      <th>1</th>\n",
       "      <td>CREATE TABLE head (name VARCHAR, born_state VA...</td>\n",
       "      <td>List the name, born state and age of the heads...</td>\n",
       "      <td>SELECT name, born_state, age FROM head ORDER B...</td>\n",
       "      <td>Укажите фамилию, имя, отчество и возраст руков...</td>\n",
       "    </tr>\n",
       "    <tr>\n",
       "      <th>2</th>\n",
       "      <td>CREATE TABLE department (creation VARCHAR, nam...</td>\n",
       "      <td>List the creation year, name and budget of eac...</td>\n",
       "      <td>SELECT creation, name, budget_in_billions FROM...</td>\n",
       "      <td>Укажите год создания, название и бюджет каждог...</td>\n",
       "    </tr>\n",
       "  </tbody>\n",
       "</table>\n",
       "</div>"
      ],
      "text/plain": [
       "                                             context  \\\n",
       "0                    CREATE TABLE head (age INTEGER)   \n",
       "1  CREATE TABLE head (name VARCHAR, born_state VA...   \n",
       "2  CREATE TABLE department (creation VARCHAR, nam...   \n",
       "\n",
       "                                            question  \\\n",
       "0  How many heads of the departments are older th...   \n",
       "1  List the name, born state and age of the heads...   \n",
       "2  List the creation year, name and budget of eac...   \n",
       "\n",
       "                                              answer  \\\n",
       "0           SELECT COUNT(*) FROM head WHERE age > 56   \n",
       "1  SELECT name, born_state, age FROM head ORDER B...   \n",
       "2  SELECT creation, name, budget_in_billions FROM...   \n",
       "\n",
       "                                 translated_question  \n",
       "0  Сколько руководителей департаментов старше 56 ...  \n",
       "1  Укажите фамилию, имя, отчество и возраст руков...  \n",
       "2  Укажите год создания, название и бюджет каждог...  "
      ]
     },
     "execution_count": 38,
     "metadata": {},
     "output_type": "execute_result"
    }
   ],
   "source": [
    "df.head(3)"
   ]
  },
  {
   "cell_type": "code",
   "execution_count": 39,
   "id": "ae92c500",
   "metadata": {},
   "outputs": [],
   "source": [
    "df.to_csv(\"data/data_translated.csv\", index=False)"
   ]
  },
  {
   "cell_type": "markdown",
   "id": "02fed7c0",
   "metadata": {},
   "source": [
    "Test data creation"
   ]
  },
  {
   "cell_type": "code",
   "execution_count": null,
   "id": "5a0d070b",
   "metadata": {},
   "outputs": [],
   "source": [
    "import sqlite3\n",
    "import random\n",
    "from datetime import datetime, timedelta\n"
   ]
  },
  {
   "cell_type": "code",
   "execution_count": 46,
   "id": "36007e3e",
   "metadata": {},
   "outputs": [],
   "source": [
    "random.seed(77)\n",
    "\n",
    "\n",
    "expense_categories = [\"ресторан\", \"продукты\", \"развлечения\", \"транспорт\", \"медицина\", \"одежда\"]\n",
    "income_categories = [\"income\", \"expense\"]\n",
    "\n",
    "\n",
    "conn = sqlite3.connect(\"data/transactions.db\")\n",
    "cursor = conn.cursor()"
   ]
  },
  {
   "cell_type": "code",
   "execution_count": null,
   "id": "ff26a1b3",
   "metadata": {},
   "outputs": [],
   "source": [
    "cursor.execute(\"\"\"\n",
    "CREATE TABLE IF NOT EXISTS transactions (\n",
    "    id INTEGER PRIMARY KEY AUTOINCREMENT,\n",
    "    user_id TEXT,\n",
    "    type TEXT CHECK(type IN ('income', 'expense')),\n",
    "    category TEXT,\n",
    "    amount REAL,\n",
    "    date TIMESTAMP DEFAULT CURRENT_TIMESTAMP\n",
    ")\n",
    "\"\"\")\n",
    "conn.commit()\n",
    "\n",
    "def populate_db(n=100000):\n",
    "    for _ in range(n):\n",
    "        user_id = \"u1\"\n",
    "        ttype = random.choice([\"income\", \"expense\"])\n",
    "        category = random.choice(income_categories if ttype == \"income\" else expense_categories)\n",
    "        amount = random.randint(100, 200000)\n",
    "        days_ago = random.randint(0, 1000)\n",
    "        date = (datetime.now() - timedelta(days=days_ago)).strftime(\"%Y-%m-%d\")\n",
    "        cursor.execute(\"\"\"\n",
    "            INSERT INTO transactions (user_id, type, category, amount, date)\n",
    "            VALUES (?, ?, ?, ?, ?)\n",
    "        \"\"\", (user_id, ttype, category, amount, date))\n",
    "    conn.commit()\n",
    "\n",
    "populate_db()"
   ]
  },
  {
   "cell_type": "code",
   "execution_count": 3,
   "id": "a76cd55d",
   "metadata": {},
   "outputs": [],
   "source": [
    "data = pd.read_csv(\"data/financial_assistant_training_dataset.csv\")"
   ]
  },
  {
   "cell_type": "code",
   "execution_count": 5,
   "id": "1c6f45a5",
   "metadata": {},
   "outputs": [],
   "source": [
    "train_df, test_df = train_test_split(data, test_size=0.2, random_state=77)\n",
    "\n",
    "test_df, eval_df = train_test_split(test_df, test_size=0.5, random_state=77)"
   ]
  },
  {
   "cell_type": "code",
   "execution_count": 6,
   "id": "6dac2966",
   "metadata": {},
   "outputs": [
    {
     "name": "stdout",
     "output_type": "stream",
     "text": [
      "Train df shape: (8000, 3)\n",
      "Eval df shape: (1000, 3)\n",
      "Test df shape: (1000, 3)\n"
     ]
    }
   ],
   "source": [
    "print(f\"Train df shape: {train_df.shape}\")\n",
    "print(f\"Eval df shape: {eval_df.shape}\")\n",
    "print(f\"Test df shape: {test_df.shape}\")"
   ]
  },
  {
   "cell_type": "code",
   "execution_count": 8,
   "id": "940529fb",
   "metadata": {},
   "outputs": [],
   "source": [
    "train_df.to_csv(\"data/fin_ass_train.csv\", index=False)\n",
    "eval_df.to_csv(\"data/fin_ass_eval.csv\", index=False)\n",
    "test_df.to_csv(\"data/fin_ass_test.csv\", index=False)"
   ]
  },
  {
   "cell_type": "code",
   "execution_count": 1,
   "id": "b253ef8e",
   "metadata": {},
   "outputs": [],
   "source": [
    "import json\n",
    "with open(\"data/pauq_train.json\") as f:\n",
    "    raw_data = json.load(f)"
   ]
  },
  {
   "cell_type": "code",
   "execution_count": 11,
   "id": "b90e11f8",
   "metadata": {},
   "outputs": [],
   "source": [
    "with open(\"data/tables.json\") as f:\n",
    "    tables = json.load(f)"
   ]
  },
  {
   "cell_type": "code",
   "execution_count": 15,
   "id": "39ccb78e",
   "metadata": {},
   "outputs": [
    {
     "data": {
      "text/plain": [
       "{'column_names': [[-1, '*'],\n",
       "  [0, 'building'],\n",
       "  [0, 'room number'],\n",
       "  [0, 'capacity'],\n",
       "  [1, 'department name'],\n",
       "  [1, 'building'],\n",
       "  [1, 'budget'],\n",
       "  [2, 'course id'],\n",
       "  [2, 'title'],\n",
       "  [2, 'department name'],\n",
       "  [2, 'credits'],\n",
       "  [3, 'id'],\n",
       "  [3, 'name'],\n",
       "  [3, 'department name'],\n",
       "  [3, 'salary'],\n",
       "  [4, 'course id'],\n",
       "  [4, 'section id'],\n",
       "  [4, 'semester'],\n",
       "  [4, 'year'],\n",
       "  [4, 'building'],\n",
       "  [4, 'room number'],\n",
       "  [4, 'time slot id'],\n",
       "  [5, 'id'],\n",
       "  [5, 'course id'],\n",
       "  [5, 'section id'],\n",
       "  [5, 'semester'],\n",
       "  [5, 'year'],\n",
       "  [6, 'id'],\n",
       "  [6, 'name'],\n",
       "  [6, 'department name'],\n",
       "  [6, 'total credits'],\n",
       "  [7, 'id'],\n",
       "  [7, 'course id'],\n",
       "  [7, 'section id'],\n",
       "  [7, 'semester'],\n",
       "  [7, 'year'],\n",
       "  [7, 'grade'],\n",
       "  [8, 'student id'],\n",
       "  [8, 'instructor id'],\n",
       "  [9, 'time slot id'],\n",
       "  [9, 'day'],\n",
       "  [9, 'start hour'],\n",
       "  [9, 'start minute'],\n",
       "  [9, 'end hour'],\n",
       "  [9, 'end minute'],\n",
       "  [10, 'course id'],\n",
       "  [10, 'prerequisite id']],\n",
       " 'column_names_original': [[-1, '*'],\n",
       "  [0, 'building'],\n",
       "  [0, 'room_number'],\n",
       "  [0, 'capacity'],\n",
       "  [1, 'dept_name'],\n",
       "  [1, 'building'],\n",
       "  [1, 'budget'],\n",
       "  [2, 'course_id'],\n",
       "  [2, 'title'],\n",
       "  [2, 'dept_name'],\n",
       "  [2, 'credits'],\n",
       "  [3, 'ID'],\n",
       "  [3, 'name'],\n",
       "  [3, 'dept_name'],\n",
       "  [3, 'salary'],\n",
       "  [4, 'course_id'],\n",
       "  [4, 'sec_id'],\n",
       "  [4, 'semester'],\n",
       "  [4, 'year'],\n",
       "  [4, 'building'],\n",
       "  [4, 'room_number'],\n",
       "  [4, 'time_slot_id'],\n",
       "  [5, 'ID'],\n",
       "  [5, 'course_id'],\n",
       "  [5, 'sec_id'],\n",
       "  [5, 'semester'],\n",
       "  [5, 'year'],\n",
       "  [6, 'ID'],\n",
       "  [6, 'name'],\n",
       "  [6, 'dept_name'],\n",
       "  [6, 'tot_cred'],\n",
       "  [7, 'ID'],\n",
       "  [7, 'course_id'],\n",
       "  [7, 'sec_id'],\n",
       "  [7, 'semester'],\n",
       "  [7, 'year'],\n",
       "  [7, 'grade'],\n",
       "  [8, 's_ID'],\n",
       "  [8, 'i_ID'],\n",
       "  [9, 'time_slot_id'],\n",
       "  [9, 'day'],\n",
       "  [9, 'start_hr'],\n",
       "  [9, 'start_min'],\n",
       "  [9, 'end_hr'],\n",
       "  [9, 'end_min'],\n",
       "  [10, 'course_id'],\n",
       "  [10, 'prereq_id']],\n",
       " 'column_types': ['text',\n",
       "  'text',\n",
       "  'text',\n",
       "  'number',\n",
       "  'text',\n",
       "  'text',\n",
       "  'number',\n",
       "  'text',\n",
       "  'text',\n",
       "  'text',\n",
       "  'number',\n",
       "  'text',\n",
       "  'text',\n",
       "  'text',\n",
       "  'number',\n",
       "  'text',\n",
       "  'text',\n",
       "  'text',\n",
       "  'number',\n",
       "  'text',\n",
       "  'text',\n",
       "  'text',\n",
       "  'text',\n",
       "  'text',\n",
       "  'text',\n",
       "  'text',\n",
       "  'number',\n",
       "  'text',\n",
       "  'text',\n",
       "  'text',\n",
       "  'number',\n",
       "  'text',\n",
       "  'text',\n",
       "  'text',\n",
       "  'text',\n",
       "  'number',\n",
       "  'text',\n",
       "  'text',\n",
       "  'text',\n",
       "  'text',\n",
       "  'text',\n",
       "  'number',\n",
       "  'number',\n",
       "  'number',\n",
       "  'number',\n",
       "  'text',\n",
       "  'text'],\n",
       " 'db_id': 'college_2',\n",
       " 'foreign_keys': [[9, 4],\n",
       "  [13, 4],\n",
       "  [19, 1],\n",
       "  [20, 2],\n",
       "  [15, 7],\n",
       "  [22, 11],\n",
       "  [23, 15],\n",
       "  [24, 16],\n",
       "  [25, 17],\n",
       "  [26, 18],\n",
       "  [29, 4],\n",
       "  [31, 27],\n",
       "  [32, 15],\n",
       "  [33, 16],\n",
       "  [34, 17],\n",
       "  [35, 18],\n",
       "  [37, 27],\n",
       "  [38, 11],\n",
       "  [46, 7],\n",
       "  [45, 7]],\n",
       " 'primary_keys': [1, 4, 7, 11, 15, 22, 27, 31, 37, 39, 45],\n",
       " 'table_names': ['classroom',\n",
       "  'department',\n",
       "  'course',\n",
       "  'instructor',\n",
       "  'section',\n",
       "  'teaches',\n",
       "  'student',\n",
       "  'takes classes',\n",
       "  'advisor',\n",
       "  'time slot',\n",
       "  'prerequisite'],\n",
       " 'table_names_original': ['classroom',\n",
       "  'department',\n",
       "  'course',\n",
       "  'instructor',\n",
       "  'section',\n",
       "  'teaches',\n",
       "  'student',\n",
       "  'takes',\n",
       "  'advisor',\n",
       "  'time_slot',\n",
       "  'prereq']}"
      ]
     },
     "execution_count": 15,
     "metadata": {},
     "output_type": "execute_result"
    }
   ],
   "source": [
    "tables[1]"
   ]
  },
  {
   "cell_type": "code",
   "execution_count": 10,
   "id": "dca03e6a",
   "metadata": {},
   "outputs": [
    {
     "data": {
      "text/plain": [
       "{'id': 'TS_0006',\n",
       " 'db_id': 'department_management',\n",
       " 'source': 'spider-train',\n",
       " 'type': 'train',\n",
       " 'query': {'en': \"SELECT name FROM head WHERE born_state != 'California';\",\n",
       "  'ru': \"SELECT name FROM head WHERE born_state != 'Юта'\"},\n",
       " 'question': {'en': 'What are the names of the heads who are born outside the California state?',\n",
       "  'ru': 'Как зовут глав, родившихся за пределами штата Юта?'},\n",
       " 'sql': {'en': {'from': {'table_units': [['table_unit', 1]], 'conds': []},\n",
       "   'select': [False, [[0, [0, [0, 8, False], None]]]],\n",
       "   'where': [[False, 7, [0, [0, 9, False], None], '\"California\"', None]],\n",
       "   'groupBy': [],\n",
       "   'having': [],\n",
       "   'orderBy': [],\n",
       "   'limit': None,\n",
       "   'intersect': None,\n",
       "   'union': None,\n",
       "   'except': None},\n",
       "  'ru': {'from': {'table_units': [['table_unit', 1]], 'conds': []},\n",
       "   'select': [False, [[0, [0, [0, 8, False], None]]]],\n",
       "   'where': [[False, 7, [0, [0, 9, False], None], '\"Юта\"', None]],\n",
       "   'groupBy': [],\n",
       "   'having': [],\n",
       "   'orderBy': [],\n",
       "   'limit': None,\n",
       "   'intersect': None,\n",
       "   'union': None,\n",
       "   'except': None}},\n",
       " 'question_toks': {'en': ['What',\n",
       "   'are',\n",
       "   'the',\n",
       "   'names',\n",
       "   'of',\n",
       "   'the',\n",
       "   'heads',\n",
       "   'who',\n",
       "   'are',\n",
       "   'born',\n",
       "   'outside',\n",
       "   'the',\n",
       "   'California',\n",
       "   'state',\n",
       "   '?'],\n",
       "  'ru': ['Как',\n",
       "   'зовут',\n",
       "   'глав',\n",
       "   ',',\n",
       "   'родившихся',\n",
       "   'за',\n",
       "   'пределами',\n",
       "   'штата',\n",
       "   'Юта',\n",
       "   '?']},\n",
       " 'query_toks': {'en': ['select',\n",
       "   'name',\n",
       "   'from',\n",
       "   'head',\n",
       "   'where',\n",
       "   'born_state',\n",
       "   '!=',\n",
       "   '\"California\"',\n",
       "   ';'],\n",
       "  'ru': ['select',\n",
       "   'name',\n",
       "   'from',\n",
       "   'head',\n",
       "   'where',\n",
       "   'born_state',\n",
       "   '!=',\n",
       "   '\"Юта\"']},\n",
       " 'query_toks_no_values': {'en': ['select',\n",
       "   'name',\n",
       "   'from',\n",
       "   'head',\n",
       "   'where',\n",
       "   'born_state',\n",
       "   '!=',\n",
       "   'value',\n",
       "   ';'],\n",
       "  'ru': ['select',\n",
       "   'name',\n",
       "   'from',\n",
       "   'head',\n",
       "   'where',\n",
       "   'born_state',\n",
       "   '!=',\n",
       "   'value']}}"
      ]
     },
     "execution_count": 10,
     "metadata": {},
     "output_type": "execute_result"
    }
   ],
   "source": [
    "raw_data[5]"
   ]
  },
  {
   "cell_type": "code",
   "execution_count": null,
   "id": "61792610",
   "metadata": {},
   "outputs": [],
   "source": []
  }
 ],
 "metadata": {
  "kernelspec": {
   "display_name": "nlp",
   "language": "python",
   "name": "python3"
  },
  "language_info": {
   "codemirror_mode": {
    "name": "ipython",
    "version": 3
   },
   "file_extension": ".py",
   "mimetype": "text/x-python",
   "name": "python",
   "nbconvert_exporter": "python",
   "pygments_lexer": "ipython3",
   "version": "3.12.2"
  }
 },
 "nbformat": 4,
 "nbformat_minor": 5
}
