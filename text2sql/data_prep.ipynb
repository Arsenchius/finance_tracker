{
 "cells": [
  {
   "cell_type": "code",
   "execution_count": 4,
   "id": "0b21bbc6",
   "metadata": {},
   "outputs": [],
   "source": [
    "import pandas as pd\n",
    "from deep_translator import GoogleTranslator\n",
    "from tqdm.notebook import tqdm\n",
    "\n",
    "from sklearn.model_selection import train_test_split"
   ]
  },
  {
   "cell_type": "code",
   "execution_count": 2,
   "id": "df80671b",
   "metadata": {},
   "outputs": [
    {
     "data": {
      "text/html": [
       "<div>\n",
       "<style scoped>\n",
       "    .dataframe tbody tr th:only-of-type {\n",
       "        vertical-align: middle;\n",
       "    }\n",
       "\n",
       "    .dataframe tbody tr th {\n",
       "        vertical-align: top;\n",
       "    }\n",
       "\n",
       "    .dataframe thead th {\n",
       "        text-align: right;\n",
       "    }\n",
       "</style>\n",
       "<table border=\"1\" class=\"dataframe\">\n",
       "  <thead>\n",
       "    <tr style=\"text-align: right;\">\n",
       "      <th></th>\n",
       "      <th>context</th>\n",
       "      <th>question</th>\n",
       "      <th>answer</th>\n",
       "    </tr>\n",
       "  </thead>\n",
       "  <tbody>\n",
       "    <tr>\n",
       "      <th>0</th>\n",
       "      <td>CREATE TABLE head (age INTEGER)</td>\n",
       "      <td>How many heads of the departments are older th...</td>\n",
       "      <td>SELECT COUNT(*) FROM head WHERE age &gt; 56</td>\n",
       "    </tr>\n",
       "    <tr>\n",
       "      <th>1</th>\n",
       "      <td>CREATE TABLE head (name VARCHAR, born_state VA...</td>\n",
       "      <td>List the name, born state and age of the heads...</td>\n",
       "      <td>SELECT name, born_state, age FROM head ORDER B...</td>\n",
       "    </tr>\n",
       "    <tr>\n",
       "      <th>2</th>\n",
       "      <td>CREATE TABLE department (creation VARCHAR, nam...</td>\n",
       "      <td>List the creation year, name and budget of eac...</td>\n",
       "      <td>SELECT creation, name, budget_in_billions FROM...</td>\n",
       "    </tr>\n",
       "  </tbody>\n",
       "</table>\n",
       "</div>"
      ],
      "text/plain": [
       "                                             context  \\\n",
       "0                    CREATE TABLE head (age INTEGER)   \n",
       "1  CREATE TABLE head (name VARCHAR, born_state VA...   \n",
       "2  CREATE TABLE department (creation VARCHAR, nam...   \n",
       "\n",
       "                                            question  \\\n",
       "0  How many heads of the departments are older th...   \n",
       "1  List the name, born state and age of the heads...   \n",
       "2  List the creation year, name and budget of eac...   \n",
       "\n",
       "                                              answer  \n",
       "0           SELECT COUNT(*) FROM head WHERE age > 56  \n",
       "1  SELECT name, born_state, age FROM head ORDER B...  \n",
       "2  SELECT creation, name, budget_in_billions FROM...  "
      ]
     },
     "execution_count": 2,
     "metadata": {},
     "output_type": "execute_result"
    }
   ],
   "source": [
    "df = pd.read_csv(\"data/data.csv\")\n",
    "df.head(3)"
   ]
  },
  {
   "cell_type": "code",
   "execution_count": 3,
   "id": "d13d8b8b",
   "metadata": {},
   "outputs": [
    {
     "data": {
      "text/plain": [
       "(78577, 3)"
      ]
     },
     "execution_count": 3,
     "metadata": {},
     "output_type": "execute_result"
    }
   ],
   "source": [
    "df.shape"
   ]
  },
  {
   "cell_type": "code",
   "execution_count": 47,
   "id": "18e2f75d",
   "metadata": {},
   "outputs": [],
   "source": [
    "translator = GoogleTranslator(api_key=\"...\",source=\"en\", target=\"ru\")\n",
    "tqdm.pandas(desc=\"Перевод вопросов\")"
   ]
  },
  {
   "cell_type": "code",
   "execution_count": 5,
   "id": "d68add8e",
   "metadata": {},
   "outputs": [],
   "source": [
    "def translate_safe(text):\n",
    "    try:\n",
    "        return translator.translate(text)\n",
    "    except Exception as e:\n",
    "        print(f\"[!] Ошибка перевода: {e}\")\n",
    "        return text"
   ]
  },
  {
   "cell_type": "code",
   "execution_count": 6,
   "id": "0fa08f0b",
   "metadata": {},
   "outputs": [
    {
     "data": {
      "text/plain": [
       "'Сколько голов отделов старше 56 лет?'"
      ]
     },
     "execution_count": 6,
     "metadata": {},
     "output_type": "execute_result"
    }
   ],
   "source": [
    "temp = df.iloc[0][\"question\"]\n",
    "translator.translate(temp)"
   ]
  },
  {
   "cell_type": "code",
   "execution_count": null,
   "id": "724a9d7c",
   "metadata": {},
   "outputs": [],
   "source": [
    "df[\"question_ru\"] = df[\"question\"].progress_apply(translate_safe)"
   ]
  },
  {
   "cell_type": "code",
   "execution_count": 24,
   "id": "ac39393f",
   "metadata": {},
   "outputs": [],
   "source": [
    "import requests\n",
    "\n",
    "def translate_with_ollama(text: str, model='llama3.2'):\n",
    "    prompt = (\n",
    "        f\"Переведи следующий текст с английского на русский язык.\\n\"\n",
    "        f\"Верни только перевод без пояснений, без кавычек, без альтернатив.\\n\"\n",
    "        f\"Только сам перевод, ничего лишнего:\\n\\n\"\n",
    "        f\"{text}\"\n",
    "    )\n",
    "\n",
    "    payload = {\n",
    "        \"model\": model,\n",
    "        \"prompt\": prompt,\n",
    "        \"stream\": False,\n",
    "        \"options\": {\n",
    "            \"temperature\": 0.0,\n",
    "        },\n",
    "    }\n",
    "\n",
    "    res = requests.post(\"http://localhost:11434/api/generate\", json=payload)\n",
    "    res.raise_for_status()\n",
    "\n",
    "    return res.json()['response'].strip()"
   ]
  },
  {
   "cell_type": "code",
   "execution_count": 25,
   "id": "d5af92d9",
   "metadata": {},
   "outputs": [
    {
     "data": {
      "text/plain": [
       "'Количество глав министерств старше 56 лет.'"
      ]
     },
     "execution_count": 25,
     "metadata": {},
     "output_type": "execute_result"
    }
   ],
   "source": [
    "translate_with_ollama(temp)"
   ]
  },
  {
   "cell_type": "code",
   "execution_count": null,
   "id": "b299fffe",
   "metadata": {},
   "outputs": [],
   "source": [
    "df[\"question_ru\"] = df[\"question\"].progress_apply(translate_safe)"
   ]
  },
  {
   "cell_type": "code",
   "execution_count": 23,
   "id": "a291acf7",
   "metadata": {},
   "outputs": [
    {
     "data": {
      "text/plain": [
       "(78577, 3)"
      ]
     },
     "execution_count": 23,
     "metadata": {},
     "output_type": "execute_result"
    }
   ],
   "source": [
    "data_translated = pd.read_csv(\"data/translated_dataset.csv\")\n",
    "data_translated.shape"
   ]
  },
  {
   "cell_type": "code",
   "execution_count": 20,
   "id": "d9e579be",
   "metadata": {},
   "outputs": [
    {
     "data": {
      "text/plain": [
       "'[ОШИБКА] 404 Client Error: Not Found for url: http://localhost:11434/api/generate'"
      ]
     },
     "execution_count": 20,
     "metadata": {},
     "output_type": "execute_result"
    }
   ],
   "source": [
    "data_translated[\"question_ru\"].iloc[0]"
   ]
  },
  {
   "cell_type": "code",
   "execution_count": 27,
   "id": "e9885ffe",
   "metadata": {},
   "outputs": [],
   "source": [
    "with open(\"questions_for_translation.txt\", \"w\", encoding=\"utf-8\") as f:\n",
    "    for q in df[\"question\"]:\n",
    "        f.write(q.strip() + \"\\n\")"
   ]
  },
  {
   "cell_type": "code",
   "execution_count": 30,
   "id": "2cff4825",
   "metadata": {},
   "outputs": [
    {
     "name": "stdout",
     "output_type": "stream",
     "text": [
      "✅ Сохранено: split_txt/questions_part1.txt\n",
      "✅ Сохранено: split_txt/questions_part2.txt\n",
      "✅ Сохранено: split_txt/questions_part3.txt\n",
      "✅ Сохранено: split_txt/questions_part4.txt\n",
      "✅ Сохранено: split_txt/questions_part5.txt\n",
      "✅ Сохранено: split_txt/questions_part6.txt\n"
     ]
    }
   ],
   "source": [
    "import os\n",
    "import math\n",
    "\n",
    "# === Шаг 1: Читаем файл ===\n",
    "with open(\"questions_for_translation.txt\", encoding=\"utf-8\") as f:\n",
    "    lines = [line.strip() for line in f if line.strip()]\n",
    "\n",
    "# === Шаг 2: Разбиваем на 3 части ===\n",
    "chunk_size = math.ceil(len(lines) / 6)\n",
    "chunks = [lines[i:i + chunk_size] for i in range(0, len(lines), chunk_size)]\n",
    "\n",
    "# === Шаг 3: Сохраняем в отдельные txt файлы ===\n",
    "os.makedirs(\"split_txt\", exist_ok=True)\n",
    "\n",
    "for i, chunk in enumerate(chunks, start=1):\n",
    "    filename = f\"split_txt/questions_part{i}.txt\"\n",
    "    with open(filename, \"w\", encoding=\"utf-8\") as f:\n",
    "        for line in chunk:\n",
    "            f.write(line + \"\\n\")\n",
    "    print(f\"✅ Сохранено: {filename}\")"
   ]
  },
  {
   "cell_type": "code",
   "execution_count": 33,
   "id": "fe0be1d1",
   "metadata": {},
   "outputs": [],
   "source": [
    "translated_parts = [\n",
    "    \"split_txt/questions_part1_ru.txt\",\n",
    "    \"split_txt/questions_part2_ru.txt\",\n",
    "    \"split_txt/questions_part3_ru.txt\",\n",
    "    \"split_txt/questions_part4_ru.txt\",\n",
    "    \"split_txt/questions_part5_ru.txt\",\n",
    "    \"split_txt/questions_part6_ru.txt\"\n",
    "]\n",
    "\n",
    "all_lines = []\n",
    "for part in translated_parts:\n",
    "    with open(part, \"r\", encoding=\"utf-8\") as f:\n",
    "        all_lines.extend(f.readlines())"
   ]
  },
  {
   "cell_type": "code",
   "execution_count": 35,
   "id": "c1745e8c",
   "metadata": {},
   "outputs": [
    {
     "data": {
      "text/plain": [
       "78577"
      ]
     },
     "execution_count": 35,
     "metadata": {},
     "output_type": "execute_result"
    }
   ],
   "source": [
    "len(all_lines)"
   ]
  },
  {
   "cell_type": "code",
   "execution_count": 36,
   "id": "0ae86f94",
   "metadata": {},
   "outputs": [],
   "source": [
    "df[\"translated_question\"] = all_lines"
   ]
  },
  {
   "cell_type": "code",
   "execution_count": 37,
   "id": "53dfc328",
   "metadata": {},
   "outputs": [
    {
     "data": {
      "text/plain": [
       "(78577, 4)"
      ]
     },
     "execution_count": 37,
     "metadata": {},
     "output_type": "execute_result"
    }
   ],
   "source": [
    "df.shape"
   ]
  },
  {
   "cell_type": "code",
   "execution_count": 38,
   "id": "884a0b41",
   "metadata": {},
   "outputs": [
    {
     "data": {
      "text/html": [
       "<div>\n",
       "<style scoped>\n",
       "    .dataframe tbody tr th:only-of-type {\n",
       "        vertical-align: middle;\n",
       "    }\n",
       "\n",
       "    .dataframe tbody tr th {\n",
       "        vertical-align: top;\n",
       "    }\n",
       "\n",
       "    .dataframe thead th {\n",
       "        text-align: right;\n",
       "    }\n",
       "</style>\n",
       "<table border=\"1\" class=\"dataframe\">\n",
       "  <thead>\n",
       "    <tr style=\"text-align: right;\">\n",
       "      <th></th>\n",
       "      <th>context</th>\n",
       "      <th>question</th>\n",
       "      <th>answer</th>\n",
       "      <th>translated_question</th>\n",
       "    </tr>\n",
       "  </thead>\n",
       "  <tbody>\n",
       "    <tr>\n",
       "      <th>0</th>\n",
       "      <td>CREATE TABLE head (age INTEGER)</td>\n",
       "      <td>How many heads of the departments are older th...</td>\n",
       "      <td>SELECT COUNT(*) FROM head WHERE age &gt; 56</td>\n",
       "      <td>Сколько руководителей департаментов старше 56 ...</td>\n",
       "    </tr>\n",
       "    <tr>\n",
       "      <th>1</th>\n",
       "      <td>CREATE TABLE head (name VARCHAR, born_state VA...</td>\n",
       "      <td>List the name, born state and age of the heads...</td>\n",
       "      <td>SELECT name, born_state, age FROM head ORDER B...</td>\n",
       "      <td>Укажите фамилию, имя, отчество и возраст руков...</td>\n",
       "    </tr>\n",
       "    <tr>\n",
       "      <th>2</th>\n",
       "      <td>CREATE TABLE department (creation VARCHAR, nam...</td>\n",
       "      <td>List the creation year, name and budget of eac...</td>\n",
       "      <td>SELECT creation, name, budget_in_billions FROM...</td>\n",
       "      <td>Укажите год создания, название и бюджет каждог...</td>\n",
       "    </tr>\n",
       "  </tbody>\n",
       "</table>\n",
       "</div>"
      ],
      "text/plain": [
       "                                             context  \\\n",
       "0                    CREATE TABLE head (age INTEGER)   \n",
       "1  CREATE TABLE head (name VARCHAR, born_state VA...   \n",
       "2  CREATE TABLE department (creation VARCHAR, nam...   \n",
       "\n",
       "                                            question  \\\n",
       "0  How many heads of the departments are older th...   \n",
       "1  List the name, born state and age of the heads...   \n",
       "2  List the creation year, name and budget of eac...   \n",
       "\n",
       "                                              answer  \\\n",
       "0           SELECT COUNT(*) FROM head WHERE age > 56   \n",
       "1  SELECT name, born_state, age FROM head ORDER B...   \n",
       "2  SELECT creation, name, budget_in_billions FROM...   \n",
       "\n",
       "                                 translated_question  \n",
       "0  Сколько руководителей департаментов старше 56 ...  \n",
       "1  Укажите фамилию, имя, отчество и возраст руков...  \n",
       "2  Укажите год создания, название и бюджет каждог...  "
      ]
     },
     "execution_count": 38,
     "metadata": {},
     "output_type": "execute_result"
    }
   ],
   "source": [
    "df.head(3)"
   ]
  },
  {
   "cell_type": "code",
   "execution_count": 39,
   "id": "ae92c500",
   "metadata": {},
   "outputs": [],
   "source": [
    "df.to_csv(\"data/data_translated.csv\", index=False)"
   ]
  },
  {
   "cell_type": "markdown",
   "id": "02fed7c0",
   "metadata": {},
   "source": [
    "Test data creation"
   ]
  },
  {
   "cell_type": "code",
   "execution_count": null,
   "id": "5a0d070b",
   "metadata": {},
   "outputs": [],
   "source": [
    "import sqlite3\n",
    "import random\n",
    "from datetime import datetime, timedelta\n"
   ]
  },
  {
   "cell_type": "code",
   "execution_count": 46,
   "id": "36007e3e",
   "metadata": {},
   "outputs": [],
   "source": [
    "random.seed(77)\n",
    "\n",
    "\n",
    "expense_categories = [\"ресторан\", \"продукты\", \"развлечения\", \"транспорт\", \"медицина\", \"одежда\"]\n",
    "income_categories = [\"income\", \"expense\"]\n",
    "\n",
    "\n",
    "conn = sqlite3.connect(\"data/transactions.db\")\n",
    "cursor = conn.cursor()"
   ]
  },
  {
   "cell_type": "code",
   "execution_count": null,
   "id": "ff26a1b3",
   "metadata": {},
   "outputs": [],
   "source": [
    "cursor.execute(\"\"\"\n",
    "CREATE TABLE IF NOT EXISTS transactions (\n",
    "    id INTEGER PRIMARY KEY AUTOINCREMENT,\n",
    "    user_id TEXT,\n",
    "    type TEXT CHECK(type IN ('income', 'expense')),\n",
    "    category TEXT,\n",
    "    amount REAL,\n",
    "    date TIMESTAMP DEFAULT CURRENT_TIMESTAMP\n",
    ")\n",
    "\"\"\")\n",
    "conn.commit()\n",
    "\n",
    "def populate_db(n=100000):\n",
    "    for _ in range(n):\n",
    "        user_id = \"u1\"\n",
    "        ttype = random.choice([\"income\", \"expense\"])\n",
    "        category = random.choice(income_categories if ttype == \"income\" else expense_categories)\n",
    "        amount = random.randint(100, 200000)\n",
    "        days_ago = random.randint(0, 1000)\n",
    "        date = (datetime.now() - timedelta(days=days_ago)).strftime(\"%Y-%m-%d\")\n",
    "        cursor.execute(\"\"\"\n",
    "            INSERT INTO transactions (user_id, type, category, amount, date)\n",
    "            VALUES (?, ?, ?, ?, ?)\n",
    "        \"\"\", (user_id, ttype, category, amount, date))\n",
    "    conn.commit()\n",
    "\n",
    "populate_db()"
   ]
  },
  {
   "cell_type": "code",
   "execution_count": 3,
   "id": "a76cd55d",
   "metadata": {},
   "outputs": [],
   "source": [
    "data = pd.read_csv(\"data/financial_assistant_training_dataset.csv\")"
   ]
  },
  {
   "cell_type": "code",
   "execution_count": 5,
   "id": "1c6f45a5",
   "metadata": {},
   "outputs": [],
   "source": [
    "train_df, test_df = train_test_split(data, test_size=0.2, random_state=77)\n",
    "\n",
    "test_df, eval_df = train_test_split(test_df, test_size=0.5, random_state=77)"
   ]
  },
  {
   "cell_type": "code",
   "execution_count": 6,
   "id": "6dac2966",
   "metadata": {},
   "outputs": [
    {
     "name": "stdout",
     "output_type": "stream",
     "text": [
      "Train df shape: (8000, 3)\n",
      "Eval df shape: (1000, 3)\n",
      "Test df shape: (1000, 3)\n"
     ]
    }
   ],
   "source": [
    "print(f\"Train df shape: {train_df.shape}\")\n",
    "print(f\"Eval df shape: {eval_df.shape}\")\n",
    "print(f\"Test df shape: {test_df.shape}\")"
   ]
  },
  {
   "cell_type": "code",
   "execution_count": 8,
   "id": "940529fb",
   "metadata": {},
   "outputs": [],
   "source": [
    "train_df.to_csv(\"data/fin_ass_train.csv\", index=False)\n",
    "eval_df.to_csv(\"data/fin_ass_eval.csv\", index=False)\n",
    "test_df.to_csv(\"data/fin_ass_test.csv\", index=False)"
   ]
  },
  {
   "cell_type": "code",
   "execution_count": null,
   "id": "b253ef8e",
   "metadata": {},
   "outputs": [],
   "source": []
  }
 ],
 "metadata": {
  "kernelspec": {
   "display_name": "nlp",
   "language": "python",
   "name": "python3"
  },
  "language_info": {
   "codemirror_mode": {
    "name": "ipython",
    "version": 3
   },
   "file_extension": ".py",
   "mimetype": "text/x-python",
   "name": "python",
   "nbconvert_exporter": "python",
   "pygments_lexer": "ipython3",
   "version": "3.12.2"
  }
 },
 "nbformat": 4,
 "nbformat_minor": 5
}
