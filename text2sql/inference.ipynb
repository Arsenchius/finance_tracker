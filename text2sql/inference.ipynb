{
 "cells": [
  {
   "cell_type": "code",
   "execution_count": 41,
   "id": "c49c7013",
   "metadata": {},
   "outputs": [],
   "source": [
    "from transformers import AutoTokenizer, AutoModelForCausalLM\n",
    "from peft import PeftModel\n",
    "import torch\n",
    "from tqdm.notebook import tqdm\n",
    "import pandas as pd\n",
    "import re\n",
    "\n",
    "\n",
    "BASE = \"models/gemma3_1b\"\n",
    "ADAPTER = \"models/gemma3_1b_text2sql_lora\""
   ]
  },
  {
   "cell_type": "code",
   "execution_count": 42,
   "id": "510eb23e",
   "metadata": {},
   "outputs": [],
   "source": [
    "tokenizer = AutoTokenizer.from_pretrained(ADAPTER)\n",
    "base_model = AutoModelForCausalLM.from_pretrained(BASE, device_map=\"auto\")"
   ]
  },
  {
   "cell_type": "code",
   "execution_count": 43,
   "id": "0b1a9d5a",
   "metadata": {},
   "outputs": [
    {
     "data": {
      "text/plain": [
       "PeftModelForCausalLM(\n",
       "  (base_model): LoraModel(\n",
       "    (model): Gemma3ForCausalLM(\n",
       "      (model): Gemma3TextModel(\n",
       "        (embed_tokens): Gemma3TextScaledWordEmbedding(262144, 1152, padding_idx=0)\n",
       "        (layers): ModuleList(\n",
       "          (0-25): 26 x Gemma3DecoderLayer(\n",
       "            (self_attn): Gemma3Attention(\n",
       "              (q_proj): lora.Linear(\n",
       "                (base_layer): Linear(in_features=1152, out_features=1024, bias=False)\n",
       "                (lora_dropout): ModuleDict(\n",
       "                  (default): Dropout(p=0.05, inplace=False)\n",
       "                )\n",
       "                (lora_A): ModuleDict(\n",
       "                  (default): Linear(in_features=1152, out_features=64, bias=False)\n",
       "                )\n",
       "                (lora_B): ModuleDict(\n",
       "                  (default): Linear(in_features=64, out_features=1024, bias=False)\n",
       "                )\n",
       "                (lora_embedding_A): ParameterDict()\n",
       "                (lora_embedding_B): ParameterDict()\n",
       "                (lora_magnitude_vector): ModuleDict()\n",
       "              )\n",
       "              (k_proj): lora.Linear(\n",
       "                (base_layer): Linear(in_features=1152, out_features=256, bias=False)\n",
       "                (lora_dropout): ModuleDict(\n",
       "                  (default): Dropout(p=0.05, inplace=False)\n",
       "                )\n",
       "                (lora_A): ModuleDict(\n",
       "                  (default): Linear(in_features=1152, out_features=64, bias=False)\n",
       "                )\n",
       "                (lora_B): ModuleDict(\n",
       "                  (default): Linear(in_features=64, out_features=256, bias=False)\n",
       "                )\n",
       "                (lora_embedding_A): ParameterDict()\n",
       "                (lora_embedding_B): ParameterDict()\n",
       "                (lora_magnitude_vector): ModuleDict()\n",
       "              )\n",
       "              (v_proj): lora.Linear(\n",
       "                (base_layer): Linear(in_features=1152, out_features=256, bias=False)\n",
       "                (lora_dropout): ModuleDict(\n",
       "                  (default): Dropout(p=0.05, inplace=False)\n",
       "                )\n",
       "                (lora_A): ModuleDict(\n",
       "                  (default): Linear(in_features=1152, out_features=64, bias=False)\n",
       "                )\n",
       "                (lora_B): ModuleDict(\n",
       "                  (default): Linear(in_features=64, out_features=256, bias=False)\n",
       "                )\n",
       "                (lora_embedding_A): ParameterDict()\n",
       "                (lora_embedding_B): ParameterDict()\n",
       "                (lora_magnitude_vector): ModuleDict()\n",
       "              )\n",
       "              (o_proj): lora.Linear(\n",
       "                (base_layer): Linear(in_features=1024, out_features=1152, bias=False)\n",
       "                (lora_dropout): ModuleDict(\n",
       "                  (default): Dropout(p=0.05, inplace=False)\n",
       "                )\n",
       "                (lora_A): ModuleDict(\n",
       "                  (default): Linear(in_features=1024, out_features=64, bias=False)\n",
       "                )\n",
       "                (lora_B): ModuleDict(\n",
       "                  (default): Linear(in_features=64, out_features=1152, bias=False)\n",
       "                )\n",
       "                (lora_embedding_A): ParameterDict()\n",
       "                (lora_embedding_B): ParameterDict()\n",
       "                (lora_magnitude_vector): ModuleDict()\n",
       "              )\n",
       "              (q_norm): Gemma3RMSNorm((256,), eps=1e-06)\n",
       "              (k_norm): Gemma3RMSNorm((256,), eps=1e-06)\n",
       "            )\n",
       "            (mlp): Gemma3MLP(\n",
       "              (gate_proj): lora.Linear(\n",
       "                (base_layer): Linear(in_features=1152, out_features=6912, bias=False)\n",
       "                (lora_dropout): ModuleDict(\n",
       "                  (default): Dropout(p=0.05, inplace=False)\n",
       "                )\n",
       "                (lora_A): ModuleDict(\n",
       "                  (default): Linear(in_features=1152, out_features=64, bias=False)\n",
       "                )\n",
       "                (lora_B): ModuleDict(\n",
       "                  (default): Linear(in_features=64, out_features=6912, bias=False)\n",
       "                )\n",
       "                (lora_embedding_A): ParameterDict()\n",
       "                (lora_embedding_B): ParameterDict()\n",
       "                (lora_magnitude_vector): ModuleDict()\n",
       "              )\n",
       "              (up_proj): lora.Linear(\n",
       "                (base_layer): Linear(in_features=1152, out_features=6912, bias=False)\n",
       "                (lora_dropout): ModuleDict(\n",
       "                  (default): Dropout(p=0.05, inplace=False)\n",
       "                )\n",
       "                (lora_A): ModuleDict(\n",
       "                  (default): Linear(in_features=1152, out_features=64, bias=False)\n",
       "                )\n",
       "                (lora_B): ModuleDict(\n",
       "                  (default): Linear(in_features=64, out_features=6912, bias=False)\n",
       "                )\n",
       "                (lora_embedding_A): ParameterDict()\n",
       "                (lora_embedding_B): ParameterDict()\n",
       "                (lora_magnitude_vector): ModuleDict()\n",
       "              )\n",
       "              (down_proj): lora.Linear(\n",
       "                (base_layer): Linear(in_features=6912, out_features=1152, bias=False)\n",
       "                (lora_dropout): ModuleDict(\n",
       "                  (default): Dropout(p=0.05, inplace=False)\n",
       "                )\n",
       "                (lora_A): ModuleDict(\n",
       "                  (default): Linear(in_features=6912, out_features=64, bias=False)\n",
       "                )\n",
       "                (lora_B): ModuleDict(\n",
       "                  (default): Linear(in_features=64, out_features=1152, bias=False)\n",
       "                )\n",
       "                (lora_embedding_A): ParameterDict()\n",
       "                (lora_embedding_B): ParameterDict()\n",
       "                (lora_magnitude_vector): ModuleDict()\n",
       "              )\n",
       "              (act_fn): PytorchGELUTanh()\n",
       "            )\n",
       "            (input_layernorm): Gemma3RMSNorm((1152,), eps=1e-06)\n",
       "            (post_attention_layernorm): Gemma3RMSNorm((1152,), eps=1e-06)\n",
       "            (pre_feedforward_layernorm): Gemma3RMSNorm((1152,), eps=1e-06)\n",
       "            (post_feedforward_layernorm): Gemma3RMSNorm((1152,), eps=1e-06)\n",
       "          )\n",
       "        )\n",
       "        (norm): Gemma3RMSNorm((1152,), eps=1e-06)\n",
       "        (rotary_emb): Gemma3RotaryEmbedding()\n",
       "        (rotary_emb_local): Gemma3RotaryEmbedding()\n",
       "      )\n",
       "      (lm_head): Linear(in_features=1152, out_features=262144, bias=False)\n",
       "    )\n",
       "  )\n",
       ")"
      ]
     },
     "execution_count": 43,
     "metadata": {},
     "output_type": "execute_result"
    }
   ],
   "source": [
    "model = PeftModel.from_pretrained(base_model, ADAPTER)\n",
    "model.eval()"
   ]
  },
  {
   "cell_type": "code",
   "execution_count": 4,
   "id": "8745dab4",
   "metadata": {},
   "outputs": [],
   "source": [
    "def format_test_example(row) -> str:\n",
    "    return f\"\"\"<|system|>\n",
    "Ты — интеллектуальный текстовый помощник, преобразующий команды пользователя в корректные SQL-запросы на языке SQLite.\n",
    "\n",
    "Ты всегда работаешь с таблицей `transactions`, имеющей следующую структуру:\n",
    "\n",
    "- id (INTEGER, PRIMARY KEY)\n",
    "- user_id (TEXT)\n",
    "- type (TEXT: 'income' или 'expense')\n",
    "- category (TEXT)\n",
    "- amount (REAL)\n",
    "- date (TIMESTAMP, по умолчанию date('now', 'localtime'))\n",
    "\n",
    "Описание:\n",
    "- `income` — это доход\n",
    "- `expense` — это трата\n",
    "\n",
    "Твоя задача — по команде пользователя с его ID сгенерировать корректный SQL-запрос к этой таблице.\n",
    "\n",
    "Важно:\n",
    "- Используй только SQLite-синтаксис, без пояснений.\n",
    "- Не пиши комментарии.\n",
    "- Не используй несуществующие поля (например, `note`).\n",
    "- Поле `date` можно указывать через date('now', '-N day') или опустить (будет по умолчанию).\n",
    "\n",
    "Пример:\n",
    "---\n",
    "Пользователь с ID user_1 дал команду:\n",
    "\"Добавь трату 500 рублей на еду вчера\"\n",
    "\n",
    "Ответ:\n",
    "INSERT INTO transactions (user_id, type, category, amount, date)\n",
    "VALUES ('user_1', 'expense', 'еда', 500, date('now', '-1 day'));\n",
    "---\n",
    "</s>\n",
    "<|user|>\n",
    "Пользователь с ID {row[\"user_id\"]} дал команду:\n",
    "\"{row[\"user_command\"]}\"\n",
    "</s>\n",
    "<|assistant|>\n",
    "\"\"\""
   ]
  },
  {
   "cell_type": "code",
   "execution_count": 33,
   "id": "7734fa9c",
   "metadata": {},
   "outputs": [],
   "source": [
    "def clean_sql(text):\n",
    "    \"\"\"\n",
    "    Удаляет обёртки ```sql ... ``` и специальные токены вроде </s>, <|...|>.\n",
    "    \"\"\"\n",
    "    if not isinstance(text, str):\n",
    "        return \"\"\n",
    "\n",
    "    # Убираем блоки ```sql и ```\n",
    "    text = re.sub(r\"```sql\\s*\", \"\", text, flags=re.IGNORECASE)\n",
    "    text = re.sub(r\"```\", \"\", text)\n",
    "\n",
    "    # Убираем спецтокены LLM\n",
    "    text = re.sub(r\"</s>\", \"\", text)\n",
    "    text = re.sub(r\"<\\|.*?\\|>\", \"\", text)\n",
    "\n",
    "    return text.strip()"
   ]
  },
  {
   "cell_type": "code",
   "execution_count": 34,
   "id": "af692aa2",
   "metadata": {},
   "outputs": [],
   "source": [
    "def generate_sql_from_df(test_df, model, tokenizer, max_new_tokens=128):\n",
    "    predicted_sqls = []\n",
    "\n",
    "    for _, row in tqdm(test_df.iterrows(), total=len(test_df)):\n",
    "        prompt = format_test_example(row)\n",
    "        inputs = tokenizer(prompt, return_tensors=\"pt\").to(model.device)\n",
    "\n",
    "        with torch.no_grad():\n",
    "            outputs = model.generate(\n",
    "                **inputs,\n",
    "                max_new_tokens=max_new_tokens,\n",
    "                temperature=0.0,\n",
    "                pad_token_id=tokenizer.eos_token_id\n",
    "            )\n",
    "\n",
    "        decoded = tokenizer.decode(outputs[0], skip_special_tokens=True)\n",
    "        sql = decoded.split(\"<|assistant|>\")[-1].strip()\n",
    "        predicted_sqls.append(clean_sql(sql))\n",
    "\n",
    "    test_df[\"predicted_sql\"] = predicted_sqls\n",
    "    return test_df"
   ]
  },
  {
   "cell_type": "code",
   "execution_count": 25,
   "id": "88877943",
   "metadata": {},
   "outputs": [],
   "source": [
    "def predict_sql(test_df, model, tokenizer, max_new_tokens=1024, temperature=0.0):\n",
    "    predicted_sql = []\n",
    "    model.eval()\n",
    "\n",
    "    for _, row in tqdm(test_df.iterrows(), desc=\"Генерация SQL\", total=len(test_df)):\n",
    "        prompt = format_test_example(row)\n",
    "        inputs = tokenizer(prompt, return_tensors=\"pt\").to(model.device)\n",
    "\n",
    "        with torch.no_grad():\n",
    "            outputs = model.generate(\n",
    "                **inputs,\n",
    "                max_new_tokens=max_new_tokens,\n",
    "                temperature=temperature,\n",
    "                pad_token_id=tokenizer.eos_token_id,\n",
    "                eos_token_id=tokenizer.eos_token_id,\n",
    "                do_sample=False\n",
    "            )\n",
    "\n",
    "\n",
    "        decoded = tokenizer.decode(outputs[0], skip_special_tokens=True)\n",
    "\n",
    "        # Извлекаем только SQL часть (после <|assistant|>)\n",
    "        if \"<|assistant|>\" in decoded:\n",
    "            predicted = decoded.split(\"<|assistant|>\")[-1].strip()\n",
    "        else:\n",
    "            predicted = decoded.strip()\n",
    "\n",
    "        predicted_sql.append(predicted)\n",
    "\n",
    "    return predicted_sql"
   ]
  },
  {
   "cell_type": "code",
   "execution_count": 10,
   "id": "eb3877ae",
   "metadata": {},
   "outputs": [],
   "source": [
    "test_df = pd.read_csv(\"data/fin_ass_test.csv\")"
   ]
  },
  {
   "cell_type": "code",
   "execution_count": 35,
   "id": "c8a4b5e0",
   "metadata": {},
   "outputs": [],
   "source": [
    "temp = test_df.head(5).copy()"
   ]
  },
  {
   "cell_type": "code",
   "execution_count": 36,
   "id": "1625ad64",
   "metadata": {},
   "outputs": [
    {
     "data": {
      "application/vnd.jupyter.widget-view+json": {
       "model_id": "21ca8e982f594d19b5c54ebc1d809fb7",
       "version_major": 2,
       "version_minor": 0
      },
      "text/plain": [
       "  0%|          | 0/5 [00:00<?, ?it/s]"
      ]
     },
     "metadata": {},
     "output_type": "display_data"
    },
    {
     "name": "stderr",
     "output_type": "stream",
     "text": [
      "The following generation flags are not valid and may be ignored: ['temperature']. Set `TRANSFORMERS_VERBOSITY=info` for more details.\n",
      "The following generation flags are not valid and may be ignored: ['temperature']. Set `TRANSFORMERS_VERBOSITY=info` for more details.\n",
      "The following generation flags are not valid and may be ignored: ['temperature']. Set `TRANSFORMERS_VERBOSITY=info` for more details.\n",
      "The following generation flags are not valid and may be ignored: ['temperature']. Set `TRANSFORMERS_VERBOSITY=info` for more details.\n",
      "The following generation flags are not valid and may be ignored: ['temperature']. Set `TRANSFORMERS_VERBOSITY=info` for more details.\n"
     ]
    }
   ],
   "source": [
    "temp = generate_sql_from_df(temp, model, tokenizer)"
   ]
  },
  {
   "cell_type": "code",
   "execution_count": 38,
   "id": "d141814e",
   "metadata": {},
   "outputs": [
    {
     "data": {
      "text/html": [
       "<div>\n",
       "<style scoped>\n",
       "    .dataframe tbody tr th:only-of-type {\n",
       "        vertical-align: middle;\n",
       "    }\n",
       "\n",
       "    .dataframe tbody tr th {\n",
       "        vertical-align: top;\n",
       "    }\n",
       "\n",
       "    .dataframe thead th {\n",
       "        text-align: right;\n",
       "    }\n",
       "</style>\n",
       "<table border=\"1\" class=\"dataframe\">\n",
       "  <thead>\n",
       "    <tr style=\"text-align: right;\">\n",
       "      <th></th>\n",
       "      <th>user_id</th>\n",
       "      <th>user_command</th>\n",
       "      <th>gold_sql</th>\n",
       "      <th>predicted_sql</th>\n",
       "    </tr>\n",
       "  </thead>\n",
       "  <tbody>\n",
       "    <tr>\n",
       "      <th>0</th>\n",
       "      <td>user_4</td>\n",
       "      <td>Сколько я потратил на развлечения за последние...</td>\n",
       "      <td>SELECT SUM(amount) FROM transactions\\nWHERE us...</td>\n",
       "      <td>SELECT SUM(amount</td>\n",
       "    </tr>\n",
       "    <tr>\n",
       "      <th>1</th>\n",
       "      <td>user_3</td>\n",
       "      <td>Сколько я потратил на одежда за последние 30 д...</td>\n",
       "      <td>SELECT SUM(amount) FROM transactions\\nWHERE us...</td>\n",
       "      <td>SELECT SUM(amount) FROM transactions\\nWHERE us...</td>\n",
       "    </tr>\n",
       "    <tr>\n",
       "      <th>2</th>\n",
       "      <td>user_5</td>\n",
       "      <td>Покажи мои расходы по категориям за последние ...</td>\n",
       "      <td>SELECT category, SUM(amount) FROM transactions...</td>\n",
       "      <td>SELECT category, SUM(amount) FROM transactions...</td>\n",
       "    </tr>\n",
       "    <tr>\n",
       "      <th>3</th>\n",
       "      <td>user_4</td>\n",
       "      <td>Покажи мои траты на зарплата между '2024-01-01...</td>\n",
       "      <td>SELECT * FROM transactions\\nWHERE user_id = 'u...</td>\n",
       "      <td>INSERT INTO transactions (user_id, type, categ...</td>\n",
       "    </tr>\n",
       "    <tr>\n",
       "      <th>4</th>\n",
       "      <td>user_2</td>\n",
       "      <td>Сколько я потратил на продукты за последние 1 ...</td>\n",
       "      <td>SELECT SUM(amount) FROM transactions\\nWHERE us...</td>\n",
       "      <td>SELECT SUM(amount) FROM transactions</td>\n",
       "    </tr>\n",
       "  </tbody>\n",
       "</table>\n",
       "</div>"
      ],
      "text/plain": [
       "  user_id                                       user_command  \\\n",
       "0  user_4  Сколько я потратил на развлечения за последние...   \n",
       "1  user_3  Сколько я потратил на одежда за последние 30 д...   \n",
       "2  user_5  Покажи мои расходы по категориям за последние ...   \n",
       "3  user_4  Покажи мои траты на зарплата между '2024-01-01...   \n",
       "4  user_2  Сколько я потратил на продукты за последние 1 ...   \n",
       "\n",
       "                                            gold_sql  \\\n",
       "0  SELECT SUM(amount) FROM transactions\\nWHERE us...   \n",
       "1  SELECT SUM(amount) FROM transactions\\nWHERE us...   \n",
       "2  SELECT category, SUM(amount) FROM transactions...   \n",
       "3  SELECT * FROM transactions\\nWHERE user_id = 'u...   \n",
       "4  SELECT SUM(amount) FROM transactions\\nWHERE us...   \n",
       "\n",
       "                                       predicted_sql  \n",
       "0                                  SELECT SUM(amount  \n",
       "1  SELECT SUM(amount) FROM transactions\\nWHERE us...  \n",
       "2  SELECT category, SUM(amount) FROM transactions...  \n",
       "3  INSERT INTO transactions (user_id, type, categ...  \n",
       "4               SELECT SUM(amount) FROM transactions  "
      ]
     },
     "execution_count": 38,
     "metadata": {},
     "output_type": "execute_result"
    }
   ],
   "source": [
    "temp"
   ]
  },
  {
   "cell_type": "code",
   "execution_count": 39,
   "id": "8fe07422",
   "metadata": {},
   "outputs": [
    {
     "name": "stdout",
     "output_type": "stream",
     "text": [
      "SELECT SUM(amount) FROM transactions\n",
      "WHERE user_id = 'user_3' AND type = 'expense' AND category = 'одежда' AND date >= date('now', '-30 days');\n"
     ]
    }
   ],
   "source": [
    "print(temp.iloc[1][\"predicted_sql\"])"
   ]
  },
  {
   "cell_type": "code",
   "execution_count": 40,
   "id": "c6308bac",
   "metadata": {},
   "outputs": [
    {
     "name": "stdout",
     "output_type": "stream",
     "text": [
      "SELECT SUM(amount) FROM transactions\n",
      "WHERE user_id = 'user_3' AND type = 'expense' AND category = 'одежда' AND date >= date('now', '-30 days');\n"
     ]
    }
   ],
   "source": [
    "print(temp.iloc[1][\"gold_sql\"])"
   ]
  },
  {
   "cell_type": "code",
   "execution_count": 28,
   "id": "defc7602",
   "metadata": {},
   "outputs": [
    {
     "data": {
      "application/vnd.jupyter.widget-view+json": {
       "model_id": "94ce7ee1588147e0aaf22d6863e258b3",
       "version_major": 2,
       "version_minor": 0
      },
      "text/plain": [
       "Генерация SQL:   0%|          | 0/1 [00:00<?, ?it/s]"
      ]
     },
     "metadata": {},
     "output_type": "display_data"
    },
    {
     "name": "stderr",
     "output_type": "stream",
     "text": [
      "The following generation flags are not valid and may be ignored: ['temperature']. Set `TRANSFORMERS_VERBOSITY=info` for more details.\n"
     ]
    }
   ],
   "source": [
    "preds = predict_sql(temp, model, tokenizer)"
   ]
  },
  {
   "cell_type": "code",
   "execution_count": 30,
   "id": "cc9e8c0a",
   "metadata": {},
   "outputs": [
    {
     "data": {
      "text/html": [
       "<div>\n",
       "<style scoped>\n",
       "    .dataframe tbody tr th:only-of-type {\n",
       "        vertical-align: middle;\n",
       "    }\n",
       "\n",
       "    .dataframe tbody tr th {\n",
       "        vertical-align: top;\n",
       "    }\n",
       "\n",
       "    .dataframe thead th {\n",
       "        text-align: right;\n",
       "    }\n",
       "</style>\n",
       "<table border=\"1\" class=\"dataframe\">\n",
       "  <thead>\n",
       "    <tr style=\"text-align: right;\">\n",
       "      <th></th>\n",
       "      <th>user_id</th>\n",
       "      <th>user_command</th>\n",
       "      <th>gold_sql</th>\n",
       "    </tr>\n",
       "  </thead>\n",
       "  <tbody>\n",
       "    <tr>\n",
       "      <th>0</th>\n",
       "      <td>user_4</td>\n",
       "      <td>Сколько я потратил на развлечения за последние...</td>\n",
       "      <td>SELECT SUM(amount) FROM transactions\\nWHERE us...</td>\n",
       "    </tr>\n",
       "  </tbody>\n",
       "</table>\n",
       "</div>"
      ],
      "text/plain": [
       "  user_id                                       user_command  \\\n",
       "0  user_4  Сколько я потратил на развлечения за последние...   \n",
       "\n",
       "                                            gold_sql  \n",
       "0  SELECT SUM(amount) FROM transactions\\nWHERE us...  "
      ]
     },
     "execution_count": 30,
     "metadata": {},
     "output_type": "execute_result"
    }
   ],
   "source": [
    "temp"
   ]
  },
  {
   "cell_type": "code",
   "execution_count": null,
   "id": "ae8c40cb",
   "metadata": {},
   "outputs": [],
   "source": []
  }
 ],
 "metadata": {
  "kernelspec": {
   "display_name": "nlp",
   "language": "python",
   "name": "python3"
  },
  "language_info": {
   "codemirror_mode": {
    "name": "ipython",
    "version": 3
   },
   "file_extension": ".py",
   "mimetype": "text/x-python",
   "name": "python",
   "nbconvert_exporter": "python",
   "pygments_lexer": "ipython3",
   "version": "3.12.2"
  }
 },
 "nbformat": 4,
 "nbformat_minor": 5
}
