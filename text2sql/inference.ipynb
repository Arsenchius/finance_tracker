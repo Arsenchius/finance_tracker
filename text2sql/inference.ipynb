{
 "cells": [
  {
   "cell_type": "code",
   "execution_count": 27,
   "id": "c49c7013",
   "metadata": {},
   "outputs": [],
   "source": [
    "from transformers import AutoTokenizer, AutoModelForCausalLM\n",
    "from peft import PeftModel\n",
    "import torch\n",
    "from tqdm.notebook import tqdm\n",
    "import pandas as pd\n",
    "import re\n",
    "import sqlite3\n",
    "\n",
    "import os\n",
    "os.environ[\"CUDA_VISIBLE_DEVICES\"] = \"0\"\n",
    "os.environ[\"TOKENIZERS_PARALLELISM\"] = \"false\""
   ]
  },
  {
   "cell_type": "code",
   "execution_count": 3,
   "id": "a96095d0",
   "metadata": {},
   "outputs": [],
   "source": [
    "ADAPTER = \"models/gemma3_1b_text2sql_lora\""
   ]
  },
  {
   "cell_type": "code",
   "execution_count": 4,
   "id": "28657485",
   "metadata": {},
   "outputs": [
    {
     "name": "stdout",
     "output_type": "stream",
     "text": [
      "CUDA is available. Using GPU.\n"
     ]
    }
   ],
   "source": [
    "if torch.cuda.is_available():\n",
    "    device = torch.device('cuda')\n",
    "    print('CUDA is available. Using GPU.')\n",
    "else:\n",
    "    device = torch.device('cpu')\n",
    "    print('CUDA is not available. Using CPU.')"
   ]
  },
  {
   "cell_type": "code",
   "execution_count": 7,
   "id": "510eb23e",
   "metadata": {},
   "outputs": [],
   "source": [
    "tokenizer = AutoTokenizer.from_pretrained(ADAPTER, device_map=device)"
   ]
  },
  {
   "cell_type": "code",
   "execution_count": 8,
   "id": "87382797",
   "metadata": {},
   "outputs": [],
   "source": [
    "base_model = AutoModelForCausalLM.from_pretrained(\"google/gemma-3-1b-it\").to(device)"
   ]
  },
  {
   "cell_type": "code",
   "execution_count": 11,
   "id": "0b1a9d5a",
   "metadata": {},
   "outputs": [
    {
     "data": {
      "text/plain": [
       "PeftModelForCausalLM(\n",
       "  (base_model): LoraModel(\n",
       "    (model): Gemma3ForCausalLM(\n",
       "      (model): Gemma3TextModel(\n",
       "        (embed_tokens): Gemma3TextScaledWordEmbedding(262144, 1152, padding_idx=0)\n",
       "        (layers): ModuleList(\n",
       "          (0-25): 26 x Gemma3DecoderLayer(\n",
       "            (self_attn): Gemma3Attention(\n",
       "              (q_proj): lora.Linear(\n",
       "                (base_layer): Linear(in_features=1152, out_features=1024, bias=False)\n",
       "                (lora_dropout): ModuleDict(\n",
       "                  (default): Dropout(p=0.05, inplace=False)\n",
       "                )\n",
       "                (lora_A): ModuleDict(\n",
       "                  (default): Linear(in_features=1152, out_features=64, bias=False)\n",
       "                )\n",
       "                (lora_B): ModuleDict(\n",
       "                  (default): Linear(in_features=64, out_features=1024, bias=False)\n",
       "                )\n",
       "                (lora_embedding_A): ParameterDict()\n",
       "                (lora_embedding_B): ParameterDict()\n",
       "                (lora_magnitude_vector): ModuleDict()\n",
       "              )\n",
       "              (k_proj): lora.Linear(\n",
       "                (base_layer): Linear(in_features=1152, out_features=256, bias=False)\n",
       "                (lora_dropout): ModuleDict(\n",
       "                  (default): Dropout(p=0.05, inplace=False)\n",
       "                )\n",
       "                (lora_A): ModuleDict(\n",
       "                  (default): Linear(in_features=1152, out_features=64, bias=False)\n",
       "                )\n",
       "                (lora_B): ModuleDict(\n",
       "                  (default): Linear(in_features=64, out_features=256, bias=False)\n",
       "                )\n",
       "                (lora_embedding_A): ParameterDict()\n",
       "                (lora_embedding_B): ParameterDict()\n",
       "                (lora_magnitude_vector): ModuleDict()\n",
       "              )\n",
       "              (v_proj): lora.Linear(\n",
       "                (base_layer): Linear(in_features=1152, out_features=256, bias=False)\n",
       "                (lora_dropout): ModuleDict(\n",
       "                  (default): Dropout(p=0.05, inplace=False)\n",
       "                )\n",
       "                (lora_A): ModuleDict(\n",
       "                  (default): Linear(in_features=1152, out_features=64, bias=False)\n",
       "                )\n",
       "                (lora_B): ModuleDict(\n",
       "                  (default): Linear(in_features=64, out_features=256, bias=False)\n",
       "                )\n",
       "                (lora_embedding_A): ParameterDict()\n",
       "                (lora_embedding_B): ParameterDict()\n",
       "                (lora_magnitude_vector): ModuleDict()\n",
       "              )\n",
       "              (o_proj): lora.Linear(\n",
       "                (base_layer): Linear(in_features=1024, out_features=1152, bias=False)\n",
       "                (lora_dropout): ModuleDict(\n",
       "                  (default): Dropout(p=0.05, inplace=False)\n",
       "                )\n",
       "                (lora_A): ModuleDict(\n",
       "                  (default): Linear(in_features=1024, out_features=64, bias=False)\n",
       "                )\n",
       "                (lora_B): ModuleDict(\n",
       "                  (default): Linear(in_features=64, out_features=1152, bias=False)\n",
       "                )\n",
       "                (lora_embedding_A): ParameterDict()\n",
       "                (lora_embedding_B): ParameterDict()\n",
       "                (lora_magnitude_vector): ModuleDict()\n",
       "              )\n",
       "              (q_norm): Gemma3RMSNorm((256,), eps=1e-06)\n",
       "              (k_norm): Gemma3RMSNorm((256,), eps=1e-06)\n",
       "            )\n",
       "            (mlp): Gemma3MLP(\n",
       "              (gate_proj): lora.Linear(\n",
       "                (base_layer): Linear(in_features=1152, out_features=6912, bias=False)\n",
       "                (lora_dropout): ModuleDict(\n",
       "                  (default): Dropout(p=0.05, inplace=False)\n",
       "                )\n",
       "                (lora_A): ModuleDict(\n",
       "                  (default): Linear(in_features=1152, out_features=64, bias=False)\n",
       "                )\n",
       "                (lora_B): ModuleDict(\n",
       "                  (default): Linear(in_features=64, out_features=6912, bias=False)\n",
       "                )\n",
       "                (lora_embedding_A): ParameterDict()\n",
       "                (lora_embedding_B): ParameterDict()\n",
       "                (lora_magnitude_vector): ModuleDict()\n",
       "              )\n",
       "              (up_proj): lora.Linear(\n",
       "                (base_layer): Linear(in_features=1152, out_features=6912, bias=False)\n",
       "                (lora_dropout): ModuleDict(\n",
       "                  (default): Dropout(p=0.05, inplace=False)\n",
       "                )\n",
       "                (lora_A): ModuleDict(\n",
       "                  (default): Linear(in_features=1152, out_features=64, bias=False)\n",
       "                )\n",
       "                (lora_B): ModuleDict(\n",
       "                  (default): Linear(in_features=64, out_features=6912, bias=False)\n",
       "                )\n",
       "                (lora_embedding_A): ParameterDict()\n",
       "                (lora_embedding_B): ParameterDict()\n",
       "                (lora_magnitude_vector): ModuleDict()\n",
       "              )\n",
       "              (down_proj): lora.Linear(\n",
       "                (base_layer): Linear(in_features=6912, out_features=1152, bias=False)\n",
       "                (lora_dropout): ModuleDict(\n",
       "                  (default): Dropout(p=0.05, inplace=False)\n",
       "                )\n",
       "                (lora_A): ModuleDict(\n",
       "                  (default): Linear(in_features=6912, out_features=64, bias=False)\n",
       "                )\n",
       "                (lora_B): ModuleDict(\n",
       "                  (default): Linear(in_features=64, out_features=1152, bias=False)\n",
       "                )\n",
       "                (lora_embedding_A): ParameterDict()\n",
       "                (lora_embedding_B): ParameterDict()\n",
       "                (lora_magnitude_vector): ModuleDict()\n",
       "              )\n",
       "              (act_fn): PytorchGELUTanh()\n",
       "            )\n",
       "            (input_layernorm): Gemma3RMSNorm((1152,), eps=1e-06)\n",
       "            (post_attention_layernorm): Gemma3RMSNorm((1152,), eps=1e-06)\n",
       "            (pre_feedforward_layernorm): Gemma3RMSNorm((1152,), eps=1e-06)\n",
       "            (post_feedforward_layernorm): Gemma3RMSNorm((1152,), eps=1e-06)\n",
       "          )\n",
       "        )\n",
       "        (norm): Gemma3RMSNorm((1152,), eps=1e-06)\n",
       "        (rotary_emb): Gemma3RotaryEmbedding()\n",
       "        (rotary_emb_local): Gemma3RotaryEmbedding()\n",
       "      )\n",
       "      (lm_head): Linear(in_features=1152, out_features=262144, bias=False)\n",
       "    )\n",
       "  )\n",
       ")"
      ]
     },
     "execution_count": 11,
     "metadata": {},
     "output_type": "execute_result"
    }
   ],
   "source": [
    "model = PeftModel.from_pretrained(base_model, ADAPTER)\n",
    "model.eval()"
   ]
  },
  {
   "cell_type": "code",
   "execution_count": 13,
   "id": "7e72f8da",
   "metadata": {},
   "outputs": [
    {
     "data": {
      "text/plain": [
       "device(type='cuda', index=0)"
      ]
     },
     "execution_count": 13,
     "metadata": {},
     "output_type": "execute_result"
    }
   ],
   "source": [
    "model.device"
   ]
  },
  {
   "cell_type": "code",
   "execution_count": 14,
   "id": "8745dab4",
   "metadata": {},
   "outputs": [],
   "source": [
    "def format_test_example(row) -> str:\n",
    "    return f\"\"\"<|system|>\n",
    "Ты — интеллектуальный текстовый помощник, преобразующий команды пользователя в корректные SQL-запросы на языке SQLite.\n",
    "\n",
    "Ты всегда работаешь с таблицей `transactions`, имеющей следующую структуру:\n",
    "\n",
    "- id (INTEGER, PRIMARY KEY)\n",
    "- user_id (TEXT)\n",
    "- type (TEXT: 'income' или 'expense')\n",
    "- category (TEXT)\n",
    "- amount (REAL)\n",
    "- date (TIMESTAMP, по умолчанию date('now', 'localtime'))\n",
    "\n",
    "Описание:\n",
    "- `income` — это доход\n",
    "- `expense` — это трата\n",
    "\n",
    "Твоя задача — по команде пользователя с его ID сгенерировать корректный SQL-запрос к этой таблице.\n",
    "\n",
    "Важно:\n",
    "- Используй только SQLite-синтаксис, без пояснений.\n",
    "- Не пиши комментарии.\n",
    "- Не используй несуществующие поля (например, `note`).\n",
    "- Поле `date` можно указывать через date('now', '-N day') или опустить (будет по умолчанию).\n",
    "\n",
    "Пример:\n",
    "---\n",
    "Пользователь с ID user_1 дал команду:\n",
    "\"Добавь трату 500 рублей на еду вчера\"\n",
    "\n",
    "Ответ:\n",
    "INSERT INTO transactions (user_id, type, category, amount, date)\n",
    "VALUES ('user_1', 'expense', 'еда', 500, date('now', '-1 day'));\n",
    "---\n",
    "</s>\n",
    "<|user|>\n",
    "Пользователь с ID {row[\"user_id\"]} дал команду:\n",
    "\"{row[\"user_command\"]}\"\n",
    "</s>\n",
    "<|assistant|>\n",
    "\"\"\""
   ]
  },
  {
   "cell_type": "code",
   "execution_count": 15,
   "id": "7734fa9c",
   "metadata": {},
   "outputs": [],
   "source": [
    "def clean_sql(text):\n",
    "    \"\"\"\n",
    "    Удаляет обёртки ```sql ... ``` и специальные токены вроде </s>, <|...|>.\n",
    "    \"\"\"\n",
    "    if not isinstance(text, str):\n",
    "        return \"\"\n",
    "\n",
    "    # Убираем блоки ```sql и ```\n",
    "    text = re.sub(r\"```sql\\s*\", \"\", text, flags=re.IGNORECASE)\n",
    "    text = re.sub(r\"```\", \"\", text)\n",
    "\n",
    "    # Убираем спецтокены LLM\n",
    "    text = re.sub(r\"</s>\", \"\", text)\n",
    "    text = re.sub(r\"<\\|.*?\\|>\", \"\", text)\n",
    "\n",
    "    return text.strip()"
   ]
  },
  {
   "cell_type": "code",
   "execution_count": 16,
   "id": "af692aa2",
   "metadata": {},
   "outputs": [],
   "source": [
    "def generate_sql_from_df(test_df, model, tokenizer, max_new_tokens=128):\n",
    "    predicted_sqls = []\n",
    "\n",
    "    for _, row in tqdm(test_df.iterrows(), total=len(test_df)):\n",
    "        prompt = format_test_example(row)\n",
    "        inputs = tokenizer(prompt, return_tensors=\"pt\").to(model.device)\n",
    "\n",
    "        with torch.no_grad():\n",
    "            outputs = model.generate(\n",
    "                **inputs,\n",
    "                max_new_tokens=max_new_tokens,\n",
    "                temperature=0.1,\n",
    "                pad_token_id=tokenizer.eos_token_id\n",
    "            )\n",
    "\n",
    "        decoded = tokenizer.decode(outputs[0], skip_special_tokens=True)\n",
    "        sql = decoded.split(\"<|assistant|>\")[-1].strip()\n",
    "        predicted_sqls.append(clean_sql(sql))\n",
    "\n",
    "    test_df[\"predicted_sql\"] = predicted_sqls\n",
    "    return test_df"
   ]
  },
  {
   "cell_type": "code",
   "execution_count": 18,
   "id": "eb3877ae",
   "metadata": {},
   "outputs": [],
   "source": [
    "test_df = pd.read_csv(\"data/fin_ass_test.csv\")"
   ]
  },
  {
   "cell_type": "code",
   "execution_count": 25,
   "id": "d52e5e66",
   "metadata": {},
   "outputs": [
    {
     "data": {
      "text/plain": [
       "(1000, 3)"
      ]
     },
     "execution_count": 25,
     "metadata": {},
     "output_type": "execute_result"
    }
   ],
   "source": [
    "test_df.shape"
   ]
  },
  {
   "cell_type": "code",
   "execution_count": 37,
   "id": "c8a4b5e0",
   "metadata": {},
   "outputs": [],
   "source": [
    "temp = test_df.sample(100).copy()"
   ]
  },
  {
   "cell_type": "code",
   "execution_count": 38,
   "id": "1625ad64",
   "metadata": {},
   "outputs": [
    {
     "data": {
      "application/vnd.jupyter.widget-view+json": {
       "model_id": "b7c580e104944ab7a424daa1174ddcf0",
       "version_major": 2,
       "version_minor": 0
      },
      "text/plain": [
       "  0%|          | 0/100 [00:00<?, ?it/s]"
      ]
     },
     "metadata": {},
     "output_type": "display_data"
    }
   ],
   "source": [
    "temp = generate_sql_from_df(temp, model, tokenizer)"
   ]
  },
  {
   "cell_type": "code",
   "execution_count": 39,
   "id": "d141814e",
   "metadata": {},
   "outputs": [
    {
     "data": {
      "text/html": [
       "<div>\n",
       "<style scoped>\n",
       "    .dataframe tbody tr th:only-of-type {\n",
       "        vertical-align: middle;\n",
       "    }\n",
       "\n",
       "    .dataframe tbody tr th {\n",
       "        vertical-align: top;\n",
       "    }\n",
       "\n",
       "    .dataframe thead th {\n",
       "        text-align: right;\n",
       "    }\n",
       "</style>\n",
       "<table border=\"1\" class=\"dataframe\">\n",
       "  <thead>\n",
       "    <tr style=\"text-align: right;\">\n",
       "      <th></th>\n",
       "      <th>user_id</th>\n",
       "      <th>user_command</th>\n",
       "      <th>gold_sql</th>\n",
       "      <th>predicted_sql</th>\n",
       "    </tr>\n",
       "  </thead>\n",
       "  <tbody>\n",
       "    <tr>\n",
       "      <th>640</th>\n",
       "      <td>user_1</td>\n",
       "      <td>Удалите мои последние траты на одежда</td>\n",
       "      <td>DELETE FROM transactions\\nWHERE user_id = 'use...</td>\n",
       "      <td>INSERT INTO transactions (user_id, type, categ...</td>\n",
       "    </tr>\n",
       "    <tr>\n",
       "      <th>273</th>\n",
       "      <td>user_1</td>\n",
       "      <td>Удалите мои последние траты на фриланс</td>\n",
       "      <td>DELETE FROM transactions\\nWHERE user_id = 'use...</td>\n",
       "      <td>Change adjustment = 'expense',\\nTIMESTAMP = '2...</td>\n",
       "    </tr>\n",
       "    <tr>\n",
       "      <th>630</th>\n",
       "      <td>user_1</td>\n",
       "      <td>Удалите мои последние траты на транспорт</td>\n",
       "      <td>DELETE FROM transactions\\nWHERE user_id = 'use...</td>\n",
       "      <td>INSERT INTO transactions (user_id, type, categ...</td>\n",
       "    </tr>\n",
       "    <tr>\n",
       "      <th>62</th>\n",
       "      <td>user_2</td>\n",
       "      <td>Удалите мои последние траты на еда</td>\n",
       "      <td>DELETE FROM transactions\\nWHERE user_id = 'use...</td>\n",
       "      <td>INSERT INTO transactions (user_id, type, categ...</td>\n",
       "    </tr>\n",
       "    <tr>\n",
       "      <th>563</th>\n",
       "      <td>user_3</td>\n",
       "      <td>Сколько я потратил на развлечения за последние...</td>\n",
       "      <td>SELECT SUM(amount) FROM transactions\\nWHERE us...</td>\n",
       "      <td>SELECT SUM(amount</td>\n",
       "    </tr>\n",
       "    <tr>\n",
       "      <th>...</th>\n",
       "      <td>...</td>\n",
       "      <td>...</td>\n",
       "      <td>...</td>\n",
       "      <td>...</td>\n",
       "    </tr>\n",
       "    <tr>\n",
       "      <th>163</th>\n",
       "      <td>user_5</td>\n",
       "      <td>Какова средняя сумма моих трат на зарплата за ...</td>\n",
       "      <td>SELECT AVG(amount) FROM transactions\\nWHERE us...</td>\n",
       "      <td>SELECT AVG(amount) FROM transactions\\nWHERE us...</td>\n",
       "    </tr>\n",
       "    <tr>\n",
       "      <th>634</th>\n",
       "      <td>user_1</td>\n",
       "      <td>Покажи мои траты на медицина между '2024-01-01...</td>\n",
       "      <td>SELECT * FROM transactions\\nWHERE user_id = 'u...</td>\n",
       "      <td>INSERT INTO transactions (user_id, type, categ...</td>\n",
       "    </tr>\n",
       "    <tr>\n",
       "      <th>209</th>\n",
       "      <td>user_3</td>\n",
       "      <td>Покажи мои расходы по категориям за последние ...</td>\n",
       "      <td>SELECT category, SUM(amount) FROM transactions...</td>\n",
       "      <td>SELECT category, SUM(amount) FROM transactions...</td>\n",
       "    </tr>\n",
       "    <tr>\n",
       "      <th>489</th>\n",
       "      <td>user_5</td>\n",
       "      <td>Покажи мои расходы по категориям за последние ...</td>\n",
       "      <td>SELECT category, SUM(amount) FROM transactions...</td>\n",
       "      <td>SELECT category, SUM(amount) FROM transactions...</td>\n",
       "    </tr>\n",
       "    <tr>\n",
       "      <th>354</th>\n",
       "      <td>user_1</td>\n",
       "      <td>Удалите мои последние траты на подарок</td>\n",
       "      <td>DELETE FROM transactions\\nWHERE user_id = 'use...</td>\n",
       "      <td>DELETE FROM transactions\\nWHERE user_id = 'use...</td>\n",
       "    </tr>\n",
       "  </tbody>\n",
       "</table>\n",
       "<p>100 rows × 4 columns</p>\n",
       "</div>"
      ],
      "text/plain": [
       "    user_id                                       user_command  \\\n",
       "640  user_1              Удалите мои последние траты на одежда   \n",
       "273  user_1             Удалите мои последние траты на фриланс   \n",
       "630  user_1           Удалите мои последние траты на транспорт   \n",
       "62   user_2                 Удалите мои последние траты на еда   \n",
       "563  user_3  Сколько я потратил на развлечения за последние...   \n",
       "..      ...                                                ...   \n",
       "163  user_5  Какова средняя сумма моих трат на зарплата за ...   \n",
       "634  user_1  Покажи мои траты на медицина между '2024-01-01...   \n",
       "209  user_3  Покажи мои расходы по категориям за последние ...   \n",
       "489  user_5  Покажи мои расходы по категориям за последние ...   \n",
       "354  user_1             Удалите мои последние траты на подарок   \n",
       "\n",
       "                                              gold_sql  \\\n",
       "640  DELETE FROM transactions\\nWHERE user_id = 'use...   \n",
       "273  DELETE FROM transactions\\nWHERE user_id = 'use...   \n",
       "630  DELETE FROM transactions\\nWHERE user_id = 'use...   \n",
       "62   DELETE FROM transactions\\nWHERE user_id = 'use...   \n",
       "563  SELECT SUM(amount) FROM transactions\\nWHERE us...   \n",
       "..                                                 ...   \n",
       "163  SELECT AVG(amount) FROM transactions\\nWHERE us...   \n",
       "634  SELECT * FROM transactions\\nWHERE user_id = 'u...   \n",
       "209  SELECT category, SUM(amount) FROM transactions...   \n",
       "489  SELECT category, SUM(amount) FROM transactions...   \n",
       "354  DELETE FROM transactions\\nWHERE user_id = 'use...   \n",
       "\n",
       "                                         predicted_sql  \n",
       "640  INSERT INTO transactions (user_id, type, categ...  \n",
       "273  Change adjustment = 'expense',\\nTIMESTAMP = '2...  \n",
       "630  INSERT INTO transactions (user_id, type, categ...  \n",
       "62   INSERT INTO transactions (user_id, type, categ...  \n",
       "563                                  SELECT SUM(amount  \n",
       "..                                                 ...  \n",
       "163  SELECT AVG(amount) FROM transactions\\nWHERE us...  \n",
       "634  INSERT INTO transactions (user_id, type, categ...  \n",
       "209  SELECT category, SUM(amount) FROM transactions...  \n",
       "489  SELECT category, SUM(amount) FROM transactions...  \n",
       "354  DELETE FROM transactions\\nWHERE user_id = 'use...  \n",
       "\n",
       "[100 rows x 4 columns]"
      ]
     },
     "execution_count": 39,
     "metadata": {},
     "output_type": "execute_result"
    }
   ],
   "source": [
    "temp"
   ]
  },
  {
   "cell_type": "code",
   "execution_count": 40,
   "id": "2a5c525e",
   "metadata": {},
   "outputs": [],
   "source": [
    "def normalize_sql(sql: str) -> str:\n",
    "    return sql.strip().lower().rstrip(\";\")\n",
    "\n",
    "def exact_match(pred: str, gold: str) -> bool:\n",
    "    return normalize_sql(pred) == normalize_sql(gold)\n",
    "\n",
    "def execute_sql(sql: str, db_path: str):\n",
    "    try:\n",
    "        conn = sqlite3.connect(db_path)\n",
    "        cursor = conn.cursor()\n",
    "        cursor.execute(sql)\n",
    "        rows = cursor.fetchall()\n",
    "        conn.close()\n",
    "        return sorted(rows)\n",
    "    except Exception as e:\n",
    "        return f\"[ERROR] {e}\""
   ]
  },
  {
   "cell_type": "code",
   "execution_count": 49,
   "id": "ae8c40cb",
   "metadata": {},
   "outputs": [],
   "source": [
    "def evaluate_sql_quality(df, sql_col=\"predicted_sql\", gold_col=\"gold_sql\", db_path=\"db_path\"):\n",
    "    exact_matches = []\n",
    "    execution_matches = []\n",
    "\n",
    "    for _, row in df.iterrows():\n",
    "        pred_sql = row[sql_col]\n",
    "        gold_sql = row[gold_col]\n",
    "\n",
    "        exact = exact_match(pred_sql, gold_sql)\n",
    "        exact_matches.append(exact)\n",
    "\n",
    "        pred_result = execute_sql(pred_sql, db_path)\n",
    "        gold_result = execute_sql(gold_sql, db_path)\n",
    "        exec_match = pred_result == gold_result\n",
    "        execution_matches.append(exec_match)\n",
    "\n",
    "    df[\"exact_match\"] = exact_matches\n",
    "    df[\"exec_match\"] = execution_matches\n",
    "\n",
    "    exact_acc = sum(exact_matches) / len(df)\n",
    "    exec_acc = sum(execution_matches) / len(df)\n",
    "\n",
    "    return {\n",
    "        \"exact_match_accuracy\": round(exact_acc, 4),\n",
    "        \"execution_accuracy\": round(exec_acc, 4)\n",
    "    }"
   ]
  },
  {
   "cell_type": "code",
   "execution_count": 51,
   "id": "da892ba8",
   "metadata": {},
   "outputs": [],
   "source": [
    "results = evaluate_sql_quality(temp, db_path=\"data/transactions.db\")"
   ]
  },
  {
   "cell_type": "code",
   "execution_count": 54,
   "id": "d4a64581",
   "metadata": {},
   "outputs": [
    {
     "name": "stdout",
     "output_type": "stream",
     "text": [
      "{'exact_match_accuracy': 0.23, 'execution_accuracy': 0.47}\n"
     ]
    }
   ],
   "source": [
    "print(results)"
   ]
  },
  {
   "cell_type": "code",
   "execution_count": null,
   "id": "1d06dd7f",
   "metadata": {},
   "outputs": [],
   "source": []
  }
 ],
 "metadata": {
  "kernelspec": {
   "display_name": "klines",
   "language": "python",
   "name": "python3"
  },
  "language_info": {
   "codemirror_mode": {
    "name": "ipython",
    "version": 3
   },
   "file_extension": ".py",
   "mimetype": "text/x-python",
   "name": "python",
   "nbconvert_exporter": "python",
   "pygments_lexer": "ipython3",
   "version": "3.12.1"
  }
 },
 "nbformat": 4,
 "nbformat_minor": 5
}
